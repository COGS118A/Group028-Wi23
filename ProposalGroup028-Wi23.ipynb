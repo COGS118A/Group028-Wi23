{
 "cells": [
  {
   "cell_type": "markdown",
   "metadata": {
    "id": "l8X71CIYH7Xi"
   },
   "source": [
    "# COGS 118A- Project Proposal"
   ]
  },
  {
   "cell_type": "markdown",
   "metadata": {
    "id": "VlAapQqgH7Xn"
   },
   "source": [
    "### Peer Review\n",
    "\n",
    "You will all have an opportunity to look at the Project Proposals of other groups to fuel your creativity and get more ideas for how you can improve your own projects. \n",
    "\n",
    "Both the project proposal and project checkpoint will have peer review."
   ]
  },
  {
   "cell_type": "markdown",
   "metadata": {
    "id": "aILwSmo-H7Xo"
   },
   "source": [
    "# Names\n",
    "\n",
    "\n",
    "- Eric Lin\n",
    "- Cecilia Martinez\n",
    "- Jared Singletary\n",
    "- Finn St-John"
   ]
  },
  {
   "cell_type": "markdown",
   "metadata": {
    "id": "2TUIEekyH7Xo"
   },
   "source": [
    "# Abstract \n",
    "We will investigate the connection between features of a movie and its rating on the popular movie reviews website Rotten Tomatoes. This website classifies each movie as one of three categories: rotten, fresh, and certified fresh. We plan to use the non-cinematic features of movies to classify them into one of these three categories. Each data point will represent a movie and many of its characteristics. These features include things like director, genre, a synopsis, runtime, actors, etc. Almost all of these features are nominal or interval. We will be performing classification on our test data to predict the Rotten Tomatoes status of a movie. The status includes the aforementioned three categories. For model selection, we will perform grid-search cross validation and select the model with the best generalization. Since neither false positives nor false negatives pose more risk than the other in the context of our problem, we will evaluate the effectiveness of our model primarily using its f1 score, as this provides a metric that balances the impact of false negatives and false positives.\n"
   ]
  },
  {
   "cell_type": "markdown",
   "metadata": {
    "id": "oI08l4nyH7Xp"
   },
   "source": [
    "# Background\n",
    "\n",
    "Rotten tomatoes is a popular website many people use to look at movie ratings. It provides an overall freshness score for movies based on the percentage of positive reviews. Scores can be assigned to either rotten(<60%), fresh(>60%), and certified fresh rating(>75% + 5 top critic reviews). They also provide an audience score. (https://www.studiobinder.com/blog/rotten-tomatoes-ratings-system/) We want to classify movies into rotten, fresh, and certified fresh categories. \n",
    "\n",
    "(https://towardsdatascience.com/can-we-predict-rotten-tomatoes-ratings-8b5f5b7d7eff)\n",
    "This article talks about how audience rating scores do not reflect audience reviews. They determined that movie rating scores do not display the general public's opinion. \n",
    "\n",
    "https://towardsdatascience.com/what-makes-for-a-good-movie-8e10896e0f1b\n",
    "In this article the author does an analysis of movie popularity broken down by both critic and audience reviews. We see that some genres like horror, comedy, mystery, and action perform much lower than other high-performing genres like documentary, classics, and animation. We expect that our Machine Learning algorithm should end up influenced by this reality. \n",
    "\n",
    "\n"
   ]
  },
  {
   "cell_type": "markdown",
   "metadata": {
    "id": "H6OwyI53H7Xp"
   },
   "source": [
    "# Problem Statement\n",
    "\n",
    "The problem for this project is to calculate whether or not a movie would be rated as rotten, fresh, or certified fresh on Rotten Tomatoes based on data such as its genre, content rating, and directors. "
   ]
  },
  {
   "cell_type": "markdown",
   "metadata": {
    "id": "5I79lp2tH7Xq"
   },
   "source": [
    "# Data\n",
    "\n",
    "Since we are trying to do an analysis of movies and how their features relate with their reviews, an ideal dataset for our project will allow us to compare several movie features with their review scores. \n",
    "\n",
    "Rotten Tomatoes Movies dataset\n",
    "- https://www.kaggle.com/datasets/stefanoleone992/rotten-tomatoes-movies-and-critic-reviews-dataset?select=rotten_tomatoes_movies.csv\n",
    "- This dataset has 17,712 observations and 22 variables per observation. \n",
    "- An observation in this dataset describes a single movie with many pieces of information about it.\n",
    "- Some important variables are the rotten tomatoes score, the genre of the movie, and the director. \n",
    "- Since there is a good amount of categorical variables like genre and director, we will likely need to use one-hot encoding to clean up that data. \n"
   ]
  },
  {
   "cell_type": "markdown",
   "metadata": {
    "id": "LY2ho0p3H7Xq"
   },
   "source": [
    "# Proposed Solution\n",
    "\n",
    "We predict that these features, while not completely evident in the content of the movie, will be a large predictor of the movie’s rating. More specifically, we predict that the director will have a large influence on the overall rating given to the movie. Additionally, we predict that certain genres will be rated more highly than others across the board. We believe that a classification model will be able to effectively find a connection between director and rating and genre and rating. We will test each solution using our selected metric: the f1 score of a model. We believe that there is a connection to discover between these non-cinematic characteristics and the rating of the movie, whether it is a large connection or small connection, and therefore believe that a classification model will be able to effectively identify this connection.\n"
   ]
  },
  {
   "cell_type": "markdown",
   "metadata": {
    "id": "QE4rImmoH7Xr"
   },
   "source": [
    "# Evaluation Metrics\n",
    "\n",
    "The evaluation model of the f1 score would likely be the best metric. In this situation, having a false positive isn’t necessarily better or worse than having a false negative. By minimizing both, the model will do its best to reflect an overall error score. \n",
    "\n",
    "Precision = True Positive/True Positive + False Positive\n",
    "\n",
    "Recall = True Positive/True Positive + False Negative\n",
    "\n",
    "F1 = (2 * Precision * recall)/(precision + recall)\n"
   ]
  },
  {
   "cell_type": "markdown",
   "metadata": {
    "id": "hhXdKJjTH7Xs"
   },
   "source": [
    "# Ethics & Privacy"
   ]
  },
  {
   "cell_type": "markdown",
   "metadata": {
    "id": "7yBbcJ7MH7Xs"
   },
   "source": [
    "Since the dataset that we are working with is only using publicly available information about Hollywood movies from the Rotten Tomatoes website, our Machine Learning analysis should not end up running into ethical concerns. One consideration we are taking into account is that this dataset has the names of all the movie reviewers in it, which could be an ethical concern if we include their names in our analysis. We’re going to avoid that though by completely ignoring the names of the critics and dropping it from the data since their names are irrelevant to our project. "
   ]
  },
  {
   "cell_type": "markdown",
   "metadata": {
    "id": "99uhzUX8H7Xt"
   },
   "source": [
    "# Team Expectations "
   ]
  },
  {
   "cell_type": "markdown",
   "metadata": {
    "id": "Bs-ZvUvtH7Xt"
   },
   "source": [
    "Put things here that cement how you will interact/communicate as a team, how you will handle conflict and difficulty, how you will handle making decisions and setting goals/schedule, how much work you expect from each other, how you will handle deadlines, etc...\n",
    "* We will communicate on Discord and let each other know if we have a time conflict that interferes with working on the project. \n",
    "* Team members will complete the work they agree to ahead of any deadlines. \n",
    "* All team members will follow academic integrity rules. "
   ]
  },
  {
   "cell_type": "markdown",
   "metadata": {
    "id": "3h5yJ7u8H7Xt"
   },
   "source": [
    "# Project Timeline Proposal"
   ]
  },
  {
   "cell_type": "markdown",
   "metadata": {
    "id": "UfYjolfuH7Xt"
   },
   "source": [
    "\n",
    "\n",
    "| Meeting Date  | Meeting Time| Completed Before Meeting  | Discuss at Meeting |\n",
    "|---|---|---|---|\n",
    "| 2/21  |  4 PM |  Brainstorm ideas for the project and look for datasets.  | Discuss ideas for what we want to do for our project and start filling out the proposal.  | \n",
    "| 2/22  |  6 PM |  Work on our respective sections of the proposal. | Finish up the project proposal by combining our sections and pushing to github. | \n",
    "| 3/1  | 6 PM  | Everyone should look over the Project Checkpoint and understand what needs to be done for it.  | Assign specific parts of the Project Checkpoint to the group members and discuss together what will go into it.   |\n",
    "| 3/4  | 4 PM  | Began working on our respective sections of the Checkpoint. | Discuss our sections and get help if needed. Make sure everyone understands what they should get done by the Checkpoint deadline. |\n",
    "| 3/7  | 4 PM  | Try to have our sections mostly finished up. | Check in the day before Checkpoint deadline to make sure we're all good to have it finished by tomorrow night. |\n",
    "| 3/8  | 6 PM  | Have all our sections finished. | Combine our sections of the Checkpoint, do some last minute revising, and submit. |\n",
    "| 3/15  | 6 PM  | Look over the final project specifications and make sure we all understand them. | Start talking about what needs to get done for the final project. Assign sections to each other.  |\n",
    "| 3/19  | 4 PM  | Started working on our sections or at least put some time into brainstorming them. | Work together on the project for a bit and discuss any challenges we're running into. Make sure we have a clear plan for finishing the project by 3/22.  |\n",
    "| 3/21  | 4 PM  | Finished or mostly finished our sections of the project. | Discuss the project and start putting our pieces together. Talk about any problems and make sure we're going to finish.  |\n",
    "| 3/22  | Before 11:59 PM  | Project finished | Turn in Final Project  |"
   ]
  },
  {
   "cell_type": "markdown",
   "metadata": {
    "id": "uiAh367ZH7Xu"
   },
   "source": [
    "# Footnotes\n",
    "\n",
    "1. Liao, E. (2018, December 8). Can We Predict Rotten Tomatoes Ratings? Towards Data Science. (https://towardsdatascience.com/can-we-predict-rotten-tomatoes-ratings-8b5f5b7d7eff)\n",
    "\n",
    "2. Maio, A. (2020, March 4). How Does Rotten Tomatoes Actually Work? Studio Binder. (https://www.studiobinder.com/blog/rotten-tomatoes-ratings-system/)\n",
    "\n",
    "3. Roper, H. (2021, January 20). What makes for a good movie? Towards Data Science. (https://towardsdatascience.com/what-makes-for-a-good-movie-8e10896e0f1b)"
   ]
  }
 ],
 "metadata": {
  "colab": {
   "provenance": []
  },
  "kernelspec": {
   "display_name": "Python 3 (ipykernel)",
   "language": "python",
   "name": "python3"
  },
  "language_info": {
   "codemirror_mode": {
    "name": "ipython",
    "version": 3
   },
   "file_extension": ".py",
   "mimetype": "text/x-python",
   "name": "python",
   "nbconvert_exporter": "python",
   "pygments_lexer": "ipython3",
   "version": "3.9.13"
  }
 },
 "nbformat": 4,
 "nbformat_minor": 0
}
