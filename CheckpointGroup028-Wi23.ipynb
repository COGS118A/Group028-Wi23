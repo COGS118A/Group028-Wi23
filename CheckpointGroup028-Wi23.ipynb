{
 "cells": [
  {
   "cell_type": "markdown",
   "metadata": {},
   "source": [
    "# COGS 118A - Project Checkpoint"
   ]
  },
  {
   "cell_type": "markdown",
   "metadata": {
    "id": "aILwSmo-H7Xo"
   },
   "source": [
    "# Names\n",
    "\n",
    "\n",
    "- Eric Lin\n",
    "- Cecilia Martinez\n",
    "- Jared Singletary\n",
    "- Finn St-John"
   ]
  },
  {
   "cell_type": "markdown",
   "metadata": {
    "id": "2TUIEekyH7Xo"
   },
   "source": [
    "# Abstract \n",
    "We will investigate the connection between features of a movie and its rating on the popular movie reviews website Rotten Tomatoes. This website classifies each movie as one of three categories: rotten, fresh, and certified fresh. We plan to use the non-cinematic features of movies to classify them into one of these three categories. Each data point will represent a movie and many of its characteristics. These features include things like genre, release date, runtime, etc. Almost all of these features are nominal or interval. We will be performing classification on our test data to predict the Rotten Tomatoes status of a movie. The status includes the aforementioned three categories. For model selection, we will perform grid-search cross validation and select the model with the best generalization. Since neither false positives nor false negatives pose more risk than the other in the context of our problem, we will evaluate the effectiveness of our model primarily using its f1 score, as this provides a metric that balances the impact of false negatives and false positives.\n"
   ]
  },
  {
   "cell_type": "markdown",
   "metadata": {
    "id": "oI08l4nyH7Xp"
   },
   "source": [
    "# Background\n",
    "\n",
    "Movie ratings are an important aspect of the film industry, with many consumers relying on them to guide their viewing decisions. Rotten Tomatoes is a popular website that provides ratings based on the percentage of positive reviews for a given movie. These ratings are divided into three categories: rotten for scores below 60%, fresh for scores above 60%, and certified fresh for scores above 75% and at least 5 top critic reviews. Additionally, the website includes an audience score as a separate metric<sup id=\"cite_ref-1\"><a href=\"#cite_note-1\">[1]</a></sup>. Despite the popularity of such rating systems, recent research has raised questions about their accuracy in reflecting the opinions of the general public.\n",
    "\n",
    "In a recent study<sup id=\"cite_ref-2\"><a href=\"#cite_note-2\">[2]</a></sup>, researchers found that movie rating scores on Rotten Tomatoes do not necessarily align with the sentiment of audience reviews. This highlights the need for a more nuanced approach to understanding audience preferences. Furthermore, movie popularity can vary significantly across genres, with certain genres like horror, comedy, mystery, and action performing poorly compared to others such as documentary, classics, and animation<sup id=\"cite_ref-3\"><a href=\"#cite_note-3\">[3]</a></sup>. These differences in popularity may impact the effectiveness of a machine learning algorithm trained on movie ratings data, suggesting the need for careful consideration of genre in the analysis.\n"
   ]
  },
  {
   "cell_type": "markdown",
   "metadata": {
    "id": "H6OwyI53H7Xp"
   },
   "source": [
    "# Problem Statement\n",
    "\n",
    "The problem that our project is trying to solve is predicting the rotten tomatoes rating for a movie based on movie features including genre, release date, runtime, and content rating. We will do this by using machine learning algorithms like a random forest classifier and logistic regression to predict if a movie will receive a \"fresh\" rotten tomato score or a \"rotten\" score. \n",
    "\n",
    "The dataset we use makes this very much quantifiable, although certain variables are categorical and must therefore be either one-hot encoded or ordinally encoded so that we can work with it mathematically. We will divide our dataset up into 2/3 training data and 1/3 testing data and then use the metric of \"Precision\" to determine the success of our algorithm. "
   ]
  },
  {
   "cell_type": "markdown",
   "metadata": {},
   "source": [
    "# Data\n",
    "\n",
    "Since we are trying to do an analysis of movies and how their features relate with their reviews, an ideal dataset for our project will allow us to compare several movie features with their review scores. \n",
    "\n",
    "Rotten Tomatoes Movies dataset\n",
    "- https://www.kaggle.com/datasets/stefanoleone992/rotten-tomatoes-movies-and-critic-reviews-dataset?select=rotten_tomatoes_movies.csv\n",
    "- This dataset has 17,712 observations and 22 variables per observation. \n",
    "- An observation in this dataset describes a single movie with many pieces of information about it.\n",
    "- Some important variables are the rotten tomatoes score, the genre of the movie, and the director. \n",
    "- Since there is a good amount of categorical variables like genre and director, we will likely need to use one-hot encoding to clean up that data. \n"
   ]
  },
  {
   "cell_type": "code",
   "execution_count": 1,
   "metadata": {},
   "outputs": [],
   "source": [
    "import pandas as pd\n",
    "import seaborn as sns\n",
    "import matplotlib as plt\n",
    "import numpy as np\n",
    "import sklearn"
   ]
  },
  {
   "cell_type": "markdown",
   "metadata": {},
   "source": [
    "We read in our rotten tomatoes csv and select only the columns with the information we have deemed to be critical to our machine learning algorithm."
   ]
  },
  {
   "cell_type": "code",
   "execution_count": 2,
   "metadata": {},
   "outputs": [
    {
     "data": {
      "text/html": [
       "<div>\n",
       "<style scoped>\n",
       "    .dataframe tbody tr th:only-of-type {\n",
       "        vertical-align: middle;\n",
       "    }\n",
       "\n",
       "    .dataframe tbody tr th {\n",
       "        vertical-align: top;\n",
       "    }\n",
       "\n",
       "    .dataframe thead th {\n",
       "        text-align: right;\n",
       "    }\n",
       "</style>\n",
       "<table border=\"1\" class=\"dataframe\">\n",
       "  <thead>\n",
       "    <tr style=\"text-align: right;\">\n",
       "      <th></th>\n",
       "      <th>movie_title</th>\n",
       "      <th>content_rating</th>\n",
       "      <th>genres</th>\n",
       "      <th>directors</th>\n",
       "      <th>runtime</th>\n",
       "      <th>tomatometer_status</th>\n",
       "      <th>tomatometer_rating</th>\n",
       "      <th>tomatometer_top_critics_count</th>\n",
       "      <th>tomatometer_fresh_critics_count</th>\n",
       "      <th>tomatometer_rotten_critics_count</th>\n",
       "      <th>original_release_date</th>\n",
       "    </tr>\n",
       "  </thead>\n",
       "  <tbody>\n",
       "    <tr>\n",
       "      <th>0</th>\n",
       "      <td>Percy Jackson &amp; the Olympians: The Lightning T...</td>\n",
       "      <td>PG</td>\n",
       "      <td>Action &amp; Adventure, Comedy, Drama, Science Fic...</td>\n",
       "      <td>Chris Columbus</td>\n",
       "      <td>119.0</td>\n",
       "      <td>Rotten</td>\n",
       "      <td>49.0</td>\n",
       "      <td>43</td>\n",
       "      <td>73</td>\n",
       "      <td>76</td>\n",
       "      <td>2010-02-12</td>\n",
       "    </tr>\n",
       "    <tr>\n",
       "      <th>1</th>\n",
       "      <td>Please Give</td>\n",
       "      <td>R</td>\n",
       "      <td>Comedy</td>\n",
       "      <td>Nicole Holofcener</td>\n",
       "      <td>90.0</td>\n",
       "      <td>Certified-Fresh</td>\n",
       "      <td>87.0</td>\n",
       "      <td>44</td>\n",
       "      <td>123</td>\n",
       "      <td>19</td>\n",
       "      <td>2010-04-30</td>\n",
       "    </tr>\n",
       "    <tr>\n",
       "      <th>2</th>\n",
       "      <td>10</td>\n",
       "      <td>R</td>\n",
       "      <td>Comedy, Romance</td>\n",
       "      <td>Blake Edwards</td>\n",
       "      <td>122.0</td>\n",
       "      <td>Fresh</td>\n",
       "      <td>67.0</td>\n",
       "      <td>2</td>\n",
       "      <td>16</td>\n",
       "      <td>8</td>\n",
       "      <td>1979-10-05</td>\n",
       "    </tr>\n",
       "    <tr>\n",
       "      <th>3</th>\n",
       "      <td>12 Angry Men (Twelve Angry Men)</td>\n",
       "      <td>NR</td>\n",
       "      <td>Classics, Drama</td>\n",
       "      <td>Sidney Lumet</td>\n",
       "      <td>95.0</td>\n",
       "      <td>Certified-Fresh</td>\n",
       "      <td>100.0</td>\n",
       "      <td>6</td>\n",
       "      <td>54</td>\n",
       "      <td>0</td>\n",
       "      <td>1957-04-13</td>\n",
       "    </tr>\n",
       "    <tr>\n",
       "      <th>4</th>\n",
       "      <td>20,000 Leagues Under The Sea</td>\n",
       "      <td>G</td>\n",
       "      <td>Action &amp; Adventure, Drama, Kids &amp; Family</td>\n",
       "      <td>Richard Fleischer</td>\n",
       "      <td>127.0</td>\n",
       "      <td>Fresh</td>\n",
       "      <td>89.0</td>\n",
       "      <td>5</td>\n",
       "      <td>24</td>\n",
       "      <td>3</td>\n",
       "      <td>1954-01-01</td>\n",
       "    </tr>\n",
       "  </tbody>\n",
       "</table>\n",
       "</div>"
      ],
      "text/plain": [
       "                                         movie_title content_rating  \\\n",
       "0  Percy Jackson & the Olympians: The Lightning T...             PG   \n",
       "1                                        Please Give              R   \n",
       "2                                                 10              R   \n",
       "3                    12 Angry Men (Twelve Angry Men)             NR   \n",
       "4                       20,000 Leagues Under The Sea              G   \n",
       "\n",
       "                                              genres          directors  \\\n",
       "0  Action & Adventure, Comedy, Drama, Science Fic...     Chris Columbus   \n",
       "1                                             Comedy  Nicole Holofcener   \n",
       "2                                    Comedy, Romance      Blake Edwards   \n",
       "3                                    Classics, Drama       Sidney Lumet   \n",
       "4           Action & Adventure, Drama, Kids & Family  Richard Fleischer   \n",
       "\n",
       "   runtime tomatometer_status  tomatometer_rating  \\\n",
       "0    119.0             Rotten                49.0   \n",
       "1     90.0    Certified-Fresh                87.0   \n",
       "2    122.0              Fresh                67.0   \n",
       "3     95.0    Certified-Fresh               100.0   \n",
       "4    127.0              Fresh                89.0   \n",
       "\n",
       "   tomatometer_top_critics_count  tomatometer_fresh_critics_count  \\\n",
       "0                             43                               73   \n",
       "1                             44                              123   \n",
       "2                              2                               16   \n",
       "3                              6                               54   \n",
       "4                              5                               24   \n",
       "\n",
       "   tomatometer_rotten_critics_count original_release_date  \n",
       "0                                76            2010-02-12  \n",
       "1                                19            2010-04-30  \n",
       "2                                 8            1979-10-05  \n",
       "3                                 0            1957-04-13  \n",
       "4                                 3            1954-01-01  "
      ]
     },
     "execution_count": 2,
     "metadata": {},
     "output_type": "execute_result"
    }
   ],
   "source": [
    "movies = pd.read_csv('data/rotten_tomatoes_movies.csv')\n",
    "critical_columns = ['movie_title', 'content_rating', 'genres', 'directors', 'runtime', 'tomatometer_status', \n",
    "                    'tomatometer_rating', 'tomatometer_top_critics_count', 'tomatometer_fresh_critics_count',\n",
    "                    'tomatometer_rotten_critics_count', 'original_release_date']\n",
    "movies = movies[critical_columns]\n",
    "movies.head()"
   ]
  },
  {
   "cell_type": "markdown",
   "metadata": {},
   "source": [
    "We know that the genre of the movie will be an important predictor, so we collect all the different genres into a set so we can see the unique values. "
   ]
  },
  {
   "cell_type": "code",
   "execution_count": 3,
   "metadata": {},
   "outputs": [
    {
     "name": "stdout",
     "output_type": "stream",
     "text": [
      "{'Special Interest', 'Cult Movies', 'Classics', 'Western', 'Action & Adventure', 'Kids & Family', 'Documentary', 'Animation', 'Television', 'Art House & International', 'Comedy', 'Mystery & Suspense', 'Horror', 'Anime & Manga', 'Drama', 'Sports & Fitness', 'Romance', 'Faith & Spirituality', 'Musical & Performing Arts', 'Gay & Lesbian', 'Science Fiction & Fantasy'}\n"
     ]
    }
   ],
   "source": [
    "genre_set = set()\n",
    "for i in movies['genres']:\n",
    "    if (type(i) == str):\n",
    "        for j in i.split(','):\n",
    "            j = j.strip()\n",
    "            genre_set.add(j)\n",
    "print(genre_set)"
   ]
  },
  {
   "cell_type": "markdown",
   "metadata": {},
   "source": [
    "We are interested in how many null values are in our csv because they can cause errors in our machine learning algorithms. We look through the columns and see how many null values they all have."
   ]
  },
  {
   "cell_type": "code",
   "execution_count": 4,
   "metadata": {},
   "outputs": [
    {
     "name": "stdout",
     "output_type": "stream",
     "text": [
      "movie_title 0\n",
      "content_rating 0\n",
      "genres 19\n",
      "directors 194\n",
      "runtime 314\n",
      "tomatometer_status 44\n",
      "tomatometer_rating 44\n",
      "tomatometer_top_critics_count 0\n",
      "tomatometer_fresh_critics_count 0\n",
      "tomatometer_rotten_critics_count 0\n",
      "original_release_date 1166\n"
     ]
    }
   ],
   "source": [
    "for i in movies.columns:\n",
    "    print(i,movies[i].isnull().values.sum())"
   ]
  },
  {
   "cell_type": "markdown",
   "metadata": {},
   "source": [
    "Since there aren't very many null values across our columns, we will just drop all the null values to avoid any problems later on. "
   ]
  },
  {
   "cell_type": "code",
   "execution_count": 5,
   "metadata": {},
   "outputs": [
    {
     "data": {
      "text/plain": [
       "(16208, 11)"
      ]
     },
     "execution_count": 5,
     "metadata": {},
     "output_type": "execute_result"
    }
   ],
   "source": [
    "movies = movies.dropna()\n",
    "movies.shape"
   ]
  },
  {
   "cell_type": "markdown",
   "metadata": {},
   "source": [
    "Genres list is a categorigal variable with no order. So we one hot encoded it.\n",
    "To one hot encode the genres, first made genres into a new genres list. Then, applied Series to each 'genres list' element"
   ]
  },
  {
   "cell_type": "code",
   "execution_count": 6,
   "metadata": {},
   "outputs": [],
   "source": [
    "movies['genres list'] = movies['genres'].str.split(', ', expand=False)\n",
    "genres_series = movies['genres list'].apply(pd.Series).stack()\n",
    "genres_encoded = pd.get_dummies(genres_series).groupby(level=0).sum()\n",
    "# movies = pd.concat([movies, genres_encoded], axis=1)\n",
    "\n",
    "genres_list = []\n",
    "for i in genres_encoded.index:\n",
    "    row_list = genres_encoded.loc[i, :].values.flatten().tolist()\n",
    "    genres_list.append(row_list)\n",
    "\n",
    "movies['genres_encoded'] = genres_list"
   ]
  },
  {
   "cell_type": "markdown",
   "metadata": {},
   "source": [
    "Ratings have an order to it, so we turned it into an ordinal numerical value."
   ]
  },
  {
   "cell_type": "code",
   "execution_count": 7,
   "metadata": {},
   "outputs": [],
   "source": [
    "ratings = {'G': 0, 'PG': 1, 'PG-13': 2, 'R': 3, 'NR': 4, 'NC17': 5}\n",
    "\n",
    "movies['content_rating_id'] = movies['content_rating'].map(ratings)"
   ]
  },
  {
   "cell_type": "markdown",
   "metadata": {},
   "source": [
    "We turned original release date into a pandas date time object so we can easily compare it to each other"
   ]
  },
  {
   "cell_type": "code",
   "execution_count": 8,
   "metadata": {},
   "outputs": [],
   "source": [
    "movies['original_release_date'] = pd.to_datetime(movies['original_release_date'])"
   ]
  },
  {
   "cell_type": "code",
   "execution_count": 9,
   "metadata": {},
   "outputs": [
    {
     "data": {
      "text/html": [
       "<div>\n",
       "<style scoped>\n",
       "    .dataframe tbody tr th:only-of-type {\n",
       "        vertical-align: middle;\n",
       "    }\n",
       "\n",
       "    .dataframe tbody tr th {\n",
       "        vertical-align: top;\n",
       "    }\n",
       "\n",
       "    .dataframe thead th {\n",
       "        text-align: right;\n",
       "    }\n",
       "</style>\n",
       "<table border=\"1\" class=\"dataframe\">\n",
       "  <thead>\n",
       "    <tr style=\"text-align: right;\">\n",
       "      <th></th>\n",
       "      <th>movie_title</th>\n",
       "      <th>content_rating</th>\n",
       "      <th>content_rating_id</th>\n",
       "      <th>genres</th>\n",
       "      <th>genres_encoded</th>\n",
       "      <th>directors</th>\n",
       "      <th>runtime</th>\n",
       "      <th>original_release_date</th>\n",
       "      <th>tomatometer_status</th>\n",
       "      <th>tomatometer_rating</th>\n",
       "      <th>tomatometer_top_critics_count</th>\n",
       "      <th>tomatometer_fresh_critics_count</th>\n",
       "      <th>tomatometer_rotten_critics_count</th>\n",
       "    </tr>\n",
       "  </thead>\n",
       "  <tbody>\n",
       "    <tr>\n",
       "      <th>0</th>\n",
       "      <td>Percy Jackson &amp; the Olympians: The Lightning T...</td>\n",
       "      <td>PG</td>\n",
       "      <td>1</td>\n",
       "      <td>Action &amp; Adventure, Comedy, Drama, Science Fic...</td>\n",
       "      <td>[1, 0, 0, 0, 0, 1, 0, 0, 1, 0, 0, 0, 0, 0, 0, ...</td>\n",
       "      <td>Chris Columbus</td>\n",
       "      <td>119.0</td>\n",
       "      <td>2010-02-12</td>\n",
       "      <td>Rotten</td>\n",
       "      <td>49.0</td>\n",
       "      <td>43</td>\n",
       "      <td>73</td>\n",
       "      <td>76</td>\n",
       "    </tr>\n",
       "    <tr>\n",
       "      <th>1</th>\n",
       "      <td>Please Give</td>\n",
       "      <td>R</td>\n",
       "      <td>3</td>\n",
       "      <td>Comedy</td>\n",
       "      <td>[0, 0, 0, 0, 0, 1, 0, 0, 0, 0, 0, 0, 0, 0, 0, ...</td>\n",
       "      <td>Nicole Holofcener</td>\n",
       "      <td>90.0</td>\n",
       "      <td>2010-04-30</td>\n",
       "      <td>Certified-Fresh</td>\n",
       "      <td>87.0</td>\n",
       "      <td>44</td>\n",
       "      <td>123</td>\n",
       "      <td>19</td>\n",
       "    </tr>\n",
       "    <tr>\n",
       "      <th>2</th>\n",
       "      <td>10</td>\n",
       "      <td>R</td>\n",
       "      <td>3</td>\n",
       "      <td>Comedy, Romance</td>\n",
       "      <td>[0, 0, 0, 0, 0, 1, 0, 0, 0, 0, 0, 0, 0, 0, 0, ...</td>\n",
       "      <td>Blake Edwards</td>\n",
       "      <td>122.0</td>\n",
       "      <td>1979-10-05</td>\n",
       "      <td>Fresh</td>\n",
       "      <td>67.0</td>\n",
       "      <td>2</td>\n",
       "      <td>16</td>\n",
       "      <td>8</td>\n",
       "    </tr>\n",
       "    <tr>\n",
       "      <th>3</th>\n",
       "      <td>12 Angry Men (Twelve Angry Men)</td>\n",
       "      <td>NR</td>\n",
       "      <td>4</td>\n",
       "      <td>Classics, Drama</td>\n",
       "      <td>[0, 0, 0, 0, 1, 0, 0, 0, 1, 0, 0, 0, 0, 0, 0, ...</td>\n",
       "      <td>Sidney Lumet</td>\n",
       "      <td>95.0</td>\n",
       "      <td>1957-04-13</td>\n",
       "      <td>Certified-Fresh</td>\n",
       "      <td>100.0</td>\n",
       "      <td>6</td>\n",
       "      <td>54</td>\n",
       "      <td>0</td>\n",
       "    </tr>\n",
       "    <tr>\n",
       "      <th>4</th>\n",
       "      <td>20,000 Leagues Under The Sea</td>\n",
       "      <td>G</td>\n",
       "      <td>0</td>\n",
       "      <td>Action &amp; Adventure, Drama, Kids &amp; Family</td>\n",
       "      <td>[1, 0, 0, 0, 0, 0, 0, 0, 1, 0, 0, 0, 1, 0, 0, ...</td>\n",
       "      <td>Richard Fleischer</td>\n",
       "      <td>127.0</td>\n",
       "      <td>1954-01-01</td>\n",
       "      <td>Fresh</td>\n",
       "      <td>89.0</td>\n",
       "      <td>5</td>\n",
       "      <td>24</td>\n",
       "      <td>3</td>\n",
       "    </tr>\n",
       "  </tbody>\n",
       "</table>\n",
       "</div>"
      ],
      "text/plain": [
       "                                         movie_title content_rating  \\\n",
       "0  Percy Jackson & the Olympians: The Lightning T...             PG   \n",
       "1                                        Please Give              R   \n",
       "2                                                 10              R   \n",
       "3                    12 Angry Men (Twelve Angry Men)             NR   \n",
       "4                       20,000 Leagues Under The Sea              G   \n",
       "\n",
       "   content_rating_id                                             genres  \\\n",
       "0                  1  Action & Adventure, Comedy, Drama, Science Fic...   \n",
       "1                  3                                             Comedy   \n",
       "2                  3                                    Comedy, Romance   \n",
       "3                  4                                    Classics, Drama   \n",
       "4                  0           Action & Adventure, Drama, Kids & Family   \n",
       "\n",
       "                                      genres_encoded          directors  \\\n",
       "0  [1, 0, 0, 0, 0, 1, 0, 0, 1, 0, 0, 0, 0, 0, 0, ...     Chris Columbus   \n",
       "1  [0, 0, 0, 0, 0, 1, 0, 0, 0, 0, 0, 0, 0, 0, 0, ...  Nicole Holofcener   \n",
       "2  [0, 0, 0, 0, 0, 1, 0, 0, 0, 0, 0, 0, 0, 0, 0, ...      Blake Edwards   \n",
       "3  [0, 0, 0, 0, 1, 0, 0, 0, 1, 0, 0, 0, 0, 0, 0, ...       Sidney Lumet   \n",
       "4  [1, 0, 0, 0, 0, 0, 0, 0, 1, 0, 0, 0, 1, 0, 0, ...  Richard Fleischer   \n",
       "\n",
       "   runtime original_release_date tomatometer_status  tomatometer_rating  \\\n",
       "0    119.0            2010-02-12             Rotten                49.0   \n",
       "1     90.0            2010-04-30    Certified-Fresh                87.0   \n",
       "2    122.0            1979-10-05              Fresh                67.0   \n",
       "3     95.0            1957-04-13    Certified-Fresh               100.0   \n",
       "4    127.0            1954-01-01              Fresh                89.0   \n",
       "\n",
       "   tomatometer_top_critics_count  tomatometer_fresh_critics_count  \\\n",
       "0                             43                               73   \n",
       "1                             44                              123   \n",
       "2                              2                               16   \n",
       "3                              6                               54   \n",
       "4                              5                               24   \n",
       "\n",
       "   tomatometer_rotten_critics_count  \n",
       "0                                76  \n",
       "1                                19  \n",
       "2                                 8  \n",
       "3                                 0  \n",
       "4                                 3  "
      ]
     },
     "execution_count": 9,
     "metadata": {},
     "output_type": "execute_result"
    }
   ],
   "source": [
    "#reordering the columns\n",
    "reordered_columns = ['movie_title', 'content_rating', 'content_rating_id', 'genres', 'genres_encoded', 'directors',\n",
    "                    'runtime', 'original_release_date', 'tomatometer_status', 'tomatometer_rating', \n",
    "                    'tomatometer_top_critics_count', 'tomatometer_fresh_critics_count', 'tomatometer_rotten_critics_count']\n",
    "movies = movies[reordered_columns]\n",
    "movies.head()"
   ]
  },
  {
   "cell_type": "markdown",
   "metadata": {
    "id": "LY2ho0p3H7Xq"
   },
   "source": [
    "# Proposed Solution\n",
    "\n",
    "We predict that these features, while not completely evident in the content of the movie, will be a large predictor of the movie’s rating. More specifically, we predict that the director will have a large influence on the overall rating given to the movie. Additionally, we predict that certain genres will be rated more highly than others across the board. We believe that a classification model will be able to effectively find a connection between director and rating and genre and rating. We will test each solution using our selected metric: the f1 score of a model. We believe that there is a connection to discover between these non-cinematic characteristics and the rating of the movie, whether it is a large connection or small connection, and therefore believe that a classification model will be able to effectively identify this connection.\n",
    "\n",
    "The classifiers we have tested are support vector machines, logistic regression, and random forest. There are a two things to consider when selecting our model. We must consider the ability of the model to approximate more complex functions, and we must consider the interpretability of the classifier. SVMs, while powerful are not very interpretable. Logistic Regression is less powerful, but more interpretable. \n",
    "\n",
    "After performing grid search cross-validation on these three algorithms, we are most interested in using a random forest classifier.\n",
    "\n",
    "Because we are looking to discover an inherent connection between certain features of our data, we would like to select the most interpretable model. However, because model interpretability scales inversely with model capacity (the amount of functions a model can approximate), we have to balance these two characteristics. Because we need to find a good medium, we are looking into using a random forest classifier. Random forest classifiers comprise many decision trees. Decision trees are some of the most interpretable classifiers available for use. Additionally, because random forests are ensemble learners, it's acceptable to use a less complex model (decision trees, in this case). \n",
    "\n",
    "Using a random forest classifier allows us to get the best of both worlds. Our model will have high interpretability, as well as a high model capacity and high prediction ability."
   ]
  },
  {
   "cell_type": "markdown",
   "metadata": {
    "id": "QE4rImmoH7Xr"
   },
   "source": [
    "# Evaluation Metrics\n",
    "\n",
    "The evaluation model we will use will be based on precision, as it is the most valuable metric to look at in the context of this problem. \n",
    "\n",
    "If a filmmaker were to create a movie based on this machine learning algorithm, spending money, time, and effort on a movie that our model predicted would do well, but then flops in reality (false positive), there would be significantly worse consequences for the filmmaker than a movie that’s expected to do poorly but ends up doing really well (false negative). A false negative would have little effect when actually using our model in practice, as filmmakers rarely have the intention of making a bad movie. As such, maximizing the precision score would minimize the amount of false positives, making a more useful model. \n",
    "\n",
    "Precision = True Positive/(True Positive + False Positive)\n"
   ]
  },
  {
   "cell_type": "markdown",
   "metadata": {},
   "source": [
    "# Preliminary results"
   ]
  },
  {
   "cell_type": "markdown",
   "metadata": {},
   "source": [
    "### Some more data formatting"
   ]
  },
  {
   "cell_type": "code",
   "execution_count": 10,
   "metadata": {},
   "outputs": [
    {
     "data": {
      "text/html": [
       "<div>\n",
       "<style scoped>\n",
       "    .dataframe tbody tr th:only-of-type {\n",
       "        vertical-align: middle;\n",
       "    }\n",
       "\n",
       "    .dataframe tbody tr th {\n",
       "        vertical-align: top;\n",
       "    }\n",
       "\n",
       "    .dataframe thead th {\n",
       "        text-align: right;\n",
       "    }\n",
       "</style>\n",
       "<table border=\"1\" class=\"dataframe\">\n",
       "  <thead>\n",
       "    <tr style=\"text-align: right;\">\n",
       "      <th></th>\n",
       "      <th>movie_title</th>\n",
       "      <th>content_rating</th>\n",
       "      <th>content_rating_id</th>\n",
       "      <th>genres</th>\n",
       "      <th>genres_encoded</th>\n",
       "      <th>directors</th>\n",
       "      <th>runtime</th>\n",
       "      <th>original_release_date</th>\n",
       "      <th>tomatometer_status</th>\n",
       "      <th>tomatometer_rating</th>\n",
       "      <th>tomatometer_top_critics_count</th>\n",
       "      <th>tomatometer_fresh_critics_count</th>\n",
       "      <th>tomatometer_rotten_critics_count</th>\n",
       "      <th>status_encoded</th>\n",
       "      <th>binary_tomatometer_status</th>\n",
       "    </tr>\n",
       "  </thead>\n",
       "  <tbody>\n",
       "    <tr>\n",
       "      <th>0</th>\n",
       "      <td>Percy Jackson &amp; the Olympians: The Lightning T...</td>\n",
       "      <td>PG</td>\n",
       "      <td>1</td>\n",
       "      <td>Action &amp; Adventure, Comedy, Drama, Science Fic...</td>\n",
       "      <td>[1, 0, 0, 0, 0, 1, 0, 0, 1, 0, 0, 0, 0, 0, 0, ...</td>\n",
       "      <td>Chris Columbus</td>\n",
       "      <td>119.0</td>\n",
       "      <td>2010-02-12</td>\n",
       "      <td>Rotten</td>\n",
       "      <td>49.0</td>\n",
       "      <td>43</td>\n",
       "      <td>73</td>\n",
       "      <td>76</td>\n",
       "      <td>[1, 0, 0]</td>\n",
       "      <td>0</td>\n",
       "    </tr>\n",
       "    <tr>\n",
       "      <th>1</th>\n",
       "      <td>Please Give</td>\n",
       "      <td>R</td>\n",
       "      <td>3</td>\n",
       "      <td>Comedy</td>\n",
       "      <td>[0, 0, 0, 0, 0, 1, 0, 0, 0, 0, 0, 0, 0, 0, 0, ...</td>\n",
       "      <td>Nicole Holofcener</td>\n",
       "      <td>90.0</td>\n",
       "      <td>2010-04-30</td>\n",
       "      <td>Certified-Fresh</td>\n",
       "      <td>87.0</td>\n",
       "      <td>44</td>\n",
       "      <td>123</td>\n",
       "      <td>19</td>\n",
       "      <td>[0, 0, 1]</td>\n",
       "      <td>1</td>\n",
       "    </tr>\n",
       "    <tr>\n",
       "      <th>2</th>\n",
       "      <td>10</td>\n",
       "      <td>R</td>\n",
       "      <td>3</td>\n",
       "      <td>Comedy, Romance</td>\n",
       "      <td>[0, 0, 0, 0, 0, 1, 0, 0, 0, 0, 0, 0, 0, 0, 0, ...</td>\n",
       "      <td>Blake Edwards</td>\n",
       "      <td>122.0</td>\n",
       "      <td>1979-10-05</td>\n",
       "      <td>Fresh</td>\n",
       "      <td>67.0</td>\n",
       "      <td>2</td>\n",
       "      <td>16</td>\n",
       "      <td>8</td>\n",
       "      <td>[0, 1, 0]</td>\n",
       "      <td>1</td>\n",
       "    </tr>\n",
       "    <tr>\n",
       "      <th>3</th>\n",
       "      <td>12 Angry Men (Twelve Angry Men)</td>\n",
       "      <td>NR</td>\n",
       "      <td>4</td>\n",
       "      <td>Classics, Drama</td>\n",
       "      <td>[0, 0, 0, 0, 1, 0, 0, 0, 1, 0, 0, 0, 0, 0, 0, ...</td>\n",
       "      <td>Sidney Lumet</td>\n",
       "      <td>95.0</td>\n",
       "      <td>1957-04-13</td>\n",
       "      <td>Certified-Fresh</td>\n",
       "      <td>100.0</td>\n",
       "      <td>6</td>\n",
       "      <td>54</td>\n",
       "      <td>0</td>\n",
       "      <td>[0, 0, 1]</td>\n",
       "      <td>1</td>\n",
       "    </tr>\n",
       "    <tr>\n",
       "      <th>4</th>\n",
       "      <td>20,000 Leagues Under The Sea</td>\n",
       "      <td>G</td>\n",
       "      <td>0</td>\n",
       "      <td>Action &amp; Adventure, Drama, Kids &amp; Family</td>\n",
       "      <td>[1, 0, 0, 0, 0, 0, 0, 0, 1, 0, 0, 0, 1, 0, 0, ...</td>\n",
       "      <td>Richard Fleischer</td>\n",
       "      <td>127.0</td>\n",
       "      <td>1954-01-01</td>\n",
       "      <td>Fresh</td>\n",
       "      <td>89.0</td>\n",
       "      <td>5</td>\n",
       "      <td>24</td>\n",
       "      <td>3</td>\n",
       "      <td>[0, 1, 0]</td>\n",
       "      <td>1</td>\n",
       "    </tr>\n",
       "  </tbody>\n",
       "</table>\n",
       "</div>"
      ],
      "text/plain": [
       "                                         movie_title content_rating  \\\n",
       "0  Percy Jackson & the Olympians: The Lightning T...             PG   \n",
       "1                                        Please Give              R   \n",
       "2                                                 10              R   \n",
       "3                    12 Angry Men (Twelve Angry Men)             NR   \n",
       "4                       20,000 Leagues Under The Sea              G   \n",
       "\n",
       "   content_rating_id                                             genres  \\\n",
       "0                  1  Action & Adventure, Comedy, Drama, Science Fic...   \n",
       "1                  3                                             Comedy   \n",
       "2                  3                                    Comedy, Romance   \n",
       "3                  4                                    Classics, Drama   \n",
       "4                  0           Action & Adventure, Drama, Kids & Family   \n",
       "\n",
       "                                      genres_encoded          directors  \\\n",
       "0  [1, 0, 0, 0, 0, 1, 0, 0, 1, 0, 0, 0, 0, 0, 0, ...     Chris Columbus   \n",
       "1  [0, 0, 0, 0, 0, 1, 0, 0, 0, 0, 0, 0, 0, 0, 0, ...  Nicole Holofcener   \n",
       "2  [0, 0, 0, 0, 0, 1, 0, 0, 0, 0, 0, 0, 0, 0, 0, ...      Blake Edwards   \n",
       "3  [0, 0, 0, 0, 1, 0, 0, 0, 1, 0, 0, 0, 0, 0, 0, ...       Sidney Lumet   \n",
       "4  [1, 0, 0, 0, 0, 0, 0, 0, 1, 0, 0, 0, 1, 0, 0, ...  Richard Fleischer   \n",
       "\n",
       "   runtime original_release_date tomatometer_status  tomatometer_rating  \\\n",
       "0    119.0            2010-02-12             Rotten                49.0   \n",
       "1     90.0            2010-04-30    Certified-Fresh                87.0   \n",
       "2    122.0            1979-10-05              Fresh                67.0   \n",
       "3     95.0            1957-04-13    Certified-Fresh               100.0   \n",
       "4    127.0            1954-01-01              Fresh                89.0   \n",
       "\n",
       "   tomatometer_top_critics_count  tomatometer_fresh_critics_count  \\\n",
       "0                             43                               73   \n",
       "1                             44                              123   \n",
       "2                              2                               16   \n",
       "3                              6                               54   \n",
       "4                              5                               24   \n",
       "\n",
       "   tomatometer_rotten_critics_count status_encoded  binary_tomatometer_status  \n",
       "0                                76      [1, 0, 0]                          0  \n",
       "1                                19      [0, 0, 1]                          1  \n",
       "2                                 8      [0, 1, 0]                          1  \n",
       "3                                 0      [0, 0, 1]                          1  \n",
       "4                                 3      [0, 1, 0]                          1  "
      ]
     },
     "execution_count": 10,
     "metadata": {},
     "output_type": "execute_result"
    }
   ],
   "source": [
    "status_encoded = pd.get_dummies(movies['tomatometer_status']).groupby(level=0).sum()\n",
    "\n",
    "status_list = []\n",
    "for i in status_encoded.index:\n",
    "    row_list = status_encoded.loc[i, :].values.flatten().tolist()\n",
    "    status_list.append(row_list[::-1])\n",
    "\n",
    "movies['status_encoded'] = status_list\n",
    "\n",
    "# turn tomatometer status into binary so that we can use binary classifiers\n",
    "binary_encoding = []\n",
    "certified_fresh = [0, 0, 1]\n",
    "fresh = [0, 1, 0]\n",
    "# for each one hot encoded list\n",
    "for val in status_list:\n",
    "    # val is fresh or certified fresh\n",
    "    if val in [fresh, certified_fresh]:\n",
    "        binary_encoding.append(1)\n",
    "    else:\n",
    "        binary_encoding.append(0)\n",
    "        \n",
    "movies['binary_tomatometer_status'] = binary_encoding\n",
    "\n",
    "movies.head()"
   ]
  },
  {
   "cell_type": "code",
   "execution_count": 11,
   "metadata": {},
   "outputs": [],
   "source": [
    "# create month column\n",
    "movies['original_release_date']\n",
    "\n",
    "movies['original_release_month'] = [d.month for d in movies['original_release_date']]"
   ]
  },
  {
   "cell_type": "markdown",
   "metadata": {},
   "source": [
    "After some formatting, test estimators on predicting `tomatometer_status` using rating, runtime, release month, and genres.\n",
    "\n",
    "Our selected classifiers include:\n",
    "1. SVM\n",
    "2. Logistic Regression\n",
    "3. Random Forests\n",
    "\n",
    "Each of these can be used as binary classifiers, so they should apply well to our data & problem. This set of algorithms also tests high and low interpretability and high and low complexity/power. "
   ]
  },
  {
   "cell_type": "code",
   "execution_count": 12,
   "metadata": {},
   "outputs": [],
   "source": [
    "selected_columns = ['original_release_month', 'genres_encoded', 'runtime', 'content_rating_id']\n",
    "\n",
    "data = np.array(movies[selected_columns])\n",
    "\n",
    "vectorized_data = []\n",
    "for d in data:\n",
    "    data_point = []\n",
    "    for feature in d:\n",
    "        if type(feature) is list:\n",
    "            data_point.extend(feature)\n",
    "        else:\n",
    "            data_point.append(feature)\n",
    "    vectorized_data.append(data_point)"
   ]
  },
  {
   "cell_type": "code",
   "execution_count": 24,
   "metadata": {},
   "outputs": [],
   "source": [
    "from sklearn.model_selection import GridSearchCV, train_test_split, RandomizedSearchCV\n",
    "from sklearn.preprocessing import StandardScaler\n",
    "from sklearn.linear_model import LogisticRegression\n",
    "from sklearn.pipeline import Pipeline\n",
    "from sklearn.svm import SVC\n",
    "from sklearn.ensemble import RandomForestClassifier"
   ]
  },
  {
   "cell_type": "code",
   "execution_count": 14,
   "metadata": {},
   "outputs": [],
   "source": [
    "X = np.array(vectorized_data)\n",
    "y = np.array(movies['binary_tomatometer_status'])\n",
    "\n",
    "X_train, X_test, y_train, y_test = train_test_split(X, y, test_size=0.33, random_state=42)"
   ]
  },
  {
   "cell_type": "markdown",
   "metadata": {},
   "source": [
    "### Testing some classifiers"
   ]
  },
  {
   "cell_type": "markdown",
   "metadata": {},
   "source": [
    "#### 1. Support Vector Machine\n",
    "\n",
    "* testing varying kernels as well as low C value to high C value"
   ]
  },
  {
   "cell_type": "code",
   "execution_count": 18,
   "metadata": {},
   "outputs": [
    {
     "name": "stdout",
     "output_type": "stream",
     "text": [
      "Fitting 5 folds for each of 12 candidates, totalling 60 fits\n",
      "{'svc__C': 1, 'svc__kernel': 'rbf'}\n",
      "0.6827504786432236\n"
     ]
    }
   ],
   "source": [
    "pipe = Pipeline(steps=[('scaler', StandardScaler()), ('svc', SVC(random_state=42))])\n",
    "\n",
    "param_grid = {\n",
    "    'svc__C': [0.01, 0.1, 1, 10],\n",
    "    'svc__kernel': ['linear', 'rbf', 'poly']\n",
    "}\n",
    "\n",
    "gscv = GridSearchCV(pipe, param_grid, cv=5, verbose=1)\n",
    "\n",
    "gscv.fit(X_train, y_train)\n",
    "\n",
    "print(gscv.best_params_)\n",
    "print(gscv.best_score_)"
   ]
  },
  {
   "cell_type": "markdown",
   "metadata": {},
   "source": [
    "It appears that a more middle-of-the-road C value and a radial basis function as our kernel leads to the most accurate test results.\n",
    "\n",
    "Unfortunately, we expected SVM to perform better on this data."
   ]
  },
  {
   "cell_type": "markdown",
   "metadata": {},
   "source": [
    "#### 2. Logistic Regression\n",
    "\n",
    "* testing low to high C values\n",
    "* testing both L1 and L2 regularizers\n",
    "* testing two different solvers that work for both L1 and L2 norms"
   ]
  },
  {
   "cell_type": "code",
   "execution_count": 21,
   "metadata": {},
   "outputs": [
    {
     "name": "stdout",
     "output_type": "stream",
     "text": [
      "Fitting 5 folds for each of 16 candidates, totalling 80 fits\n",
      "{'logistic__C': 0.01, 'logistic__penalty': 'l2', 'logistic__solver': 'saga'}\n",
      "0.6788830753283065\n"
     ]
    }
   ],
   "source": [
    "pipe = Pipeline(steps=[('scaler', StandardScaler()), ('logistic', LogisticRegression(random_state=42))])\n",
    "\n",
    "param_grid = {\n",
    "    'logistic__penalty': ['l1', 'l2'],\n",
    "    'logistic__C': [0.01, 0.1, 1, 10],\n",
    "    'logistic__solver': ['liblinear', 'saga']\n",
    "}\n",
    "\n",
    "gscv = GridSearchCV(pipe, param_grid, cv=5, verbose=1)\n",
    "\n",
    "gscv.fit(X_train, y_train)\n",
    "\n",
    "print(gscv.best_params_)\n",
    "print(gscv.best_score_)"
   ]
  },
  {
   "cell_type": "markdown",
   "metadata": {},
   "source": [
    "A lower C seems to work much better with logistic regression than with SVM.\n",
    "\n",
    "An L2 penalty is the best regularization term to use.\n",
    "\n",
    "Saga looks to be the most effective logistic regression solver when applied to our data."
   ]
  },
  {
   "cell_type": "markdown",
   "metadata": {},
   "source": [
    "#### 3. Random Forest Classifier\n",
    "\n",
    "There are quite a few hyperparamters that we can tune with random forests. In order to get some preliminary results, we are testing a limited set of hyperparameters. After we find a classifier that we would like to focus on, we will expand the grid search to include more hyperparameters.\n",
    "\n",
    "* testing the number of estimators that the forest includes\n",
    "* testing different decision tree criterion\n",
    "* testing pruning methods including max branch depth"
   ]
  },
  {
   "cell_type": "code",
   "execution_count": 30,
   "metadata": {},
   "outputs": [
    {
     "name": "stdout",
     "output_type": "stream",
     "text": [
      "Fitting 5 folds for each of 36 candidates, totalling 180 fits\n",
      "{'forest__bootstrap': True, 'forest__criterion': 'gini', 'forest__max_depth': 50, 'forest__max_features': 'sqrt', 'forest__min_samples_split': 7, 'forest__n_estimators': 200}\n",
      "0.6785147087889669\n"
     ]
    }
   ],
   "source": [
    "pipe = Pipeline(steps=[('scaler', StandardScaler()), ('forest', RandomForestClassifier(random_state=42))])\n",
    "\n",
    "param_grid = {\n",
    "    'forest__n_estimators': [200, 400, 600],\n",
    "    'forest__criterion': ['gini', 'entropy'],\n",
    "    'forest__max_depth': [40, 50, 75],\n",
    "    'forest__min_samples_split': [2, 7],\n",
    "    'forest__max_features': ['sqrt'],\n",
    "    'forest__bootstrap': [True]\n",
    "}\n",
    "\n",
    "gscv = GridSearchCV(pipe, param_grid, cv=5, verbose=1)\n",
    "\n",
    "gscv.fit(X_train, y_train)\n",
    "\n",
    "print(gscv.best_params_)\n",
    "print(gscv.best_score_)"
   ]
  },
  {
   "cell_type": "markdown",
   "metadata": {},
   "source": [
    "Random forest seems to be almost as accurate as the other classifiers, and the difference in error rate might be negligible.\n",
    "\n",
    "For preliminary testing, as stated above, we have only explored a subset of the possible hyperparameters and we plan to test more after we are confident we want to use a specific model. \n",
    "\n",
    "For now, it seems that a max depth of 50, a higher sample split, a gini impurity criterion, and the lowest number of estimators are the best hyperparameters. \n",
    "\n",
    "Because the higher numbers of estimators did not lead to better validation scores, we are led to believe that going past 200, and maybe even lower, might begin to overfit the data."
   ]
  },
  {
   "cell_type": "markdown",
   "metadata": {},
   "source": [
    "# Ethics & Privacy"
   ]
  },
  {
   "cell_type": "markdown",
   "metadata": {
    "id": "7yBbcJ7MH7Xs"
   },
   "source": [
    "Since the dataset that we are working with is only using publicly available information about Hollywood movies from the Rotten Tomatoes website, our Machine Learning analysis should not end up running into ethical concerns. One consideration we are taking into account is that this dataset has the names of all the movie reviewers in it, which could be an ethical concern if we include their names in our analysis. We’re going to avoid that though by completely ignoring the names of the critics and dropping it from the data since their names are irrelevant to our project. "
   ]
  },
  {
   "cell_type": "markdown",
   "metadata": {},
   "source": [
    "# Team Expectations "
   ]
  },
  {
   "cell_type": "markdown",
   "metadata": {
    "id": "Bs-ZvUvtH7Xt"
   },
   "source": [
    "Put things here that cement how you will interact/communicate as a team, how you will handle conflict and difficulty, how you will handle making decisions and setting goals/schedule, how much work you expect from each other, how you will handle deadlines, etc...\n",
    "* We will communicate on Discord and let each other know if we have a time conflict that interferes with working on the project. \n",
    "* Team members will complete the work they agree to ahead of any deadlines. \n",
    "* All team members will follow academic integrity rules. "
   ]
  },
  {
   "cell_type": "markdown",
   "metadata": {},
   "source": [
    "# Project Timeline Proposal"
   ]
  },
  {
   "cell_type": "markdown",
   "metadata": {
    "id": "UfYjolfuH7Xt"
   },
   "source": [
    "| Meeting Date  | Meeting Time| Completed Before Meeting  | Discuss at Meeting |\n",
    "|---|---|---|---|\n",
    "| 2/21  |  4 PM |  Brainstorm ideas for the project and look for datasets.  | Discuss ideas for what we want to do for our project and start filling out the proposal.  | \n",
    "| 2/22  |  6 PM |  Work on our respective sections of the proposal. | Finish up the project proposal by combining our sections and pushing to github. | \n",
    "| 3/1  | 9 PM  | Everyone should look over the Project Checkpoint and understand what needs to be done for it.  | Assign specific parts of the Project Checkpoint to the group members and discuss together what will go into it.   |\n",
    "| 3/4  | 9 PM  | Began working on our respective sections of the Checkpoint. | Discuss our sections and get help if needed. Make sure everyone understands what they should get done by the Checkpoint deadline. |\n",
    "| 3/8  | 11 PM  | Have all our sections finished. | Combine our sections of the Checkpoint, do some last minute revising, and submit. |\n",
    "| 3/15  | 6 PM  | Look over the final project specifications and make sure we all understand them. | Start talking about what needs to get done for the final project. Assign sections to each other. Specifically talk about how we will use a random forest classifier. |\n",
    "| 3/19  | 4 PM  | Started working on our sections or at least put some time into brainstorming them. | Work together on the project for a bit and discuss any challenges we're running into. Make sure we have a clear plan for finishing the project by 3/22.  |\n",
    "| 3/21  | 4 PM  | Finished or mostly finished our sections of the project. | Discuss the project and start putting our pieces together. Talk about any problems and make sure we're going to finish.  |\n",
    "| 3/22  | Before 11:59 PM  | Project finished | Turn in Final Project  |"
   ]
  },
  {
   "cell_type": "markdown",
   "metadata": {
    "id": "uiAh367ZH7Xu"
   },
   "source": [
    "# Footnotes\n",
    "\n",
    "<div class=\"footnotes\">\n",
    "<hr>\n",
    "<ol>\n",
    "  <li id=\"cite_note-1\">\n",
    "    <span>Liao, E. (2018, December 8). Can We Predict Rotten Tomatoes Ratings? Towards Data Science. <a href=\"https://towardsdatascience.com/can-we-predict-rotten-tomatoes-ratings-8b5f5b7d7eff\">(source)</a></span>\n",
    "    <a href=\"#cite_ref-1\" title=\"Jump back to footnote 1 in the text.\">↩</a>\n",
    "  </li>\n",
    "  <li id=\"cite_note-2\">\n",
    "    <span>Maio, A. (2020, March 4). How Does Rotten Tomatoes Actually Work? Studio Binder. <a href=\"https://www.studiobinder.com/blog/rotten-tomatoes-ratings-system/\">(source)</a></span>\n",
    "    <a href=\"#cite_ref-2\" title=\"Jump back to footnote 2 in the text.\">↩</a>\n",
    "  </li>\n",
    "  <li id=\"cite_note-3\">\n",
    "    <span>Roper, H. (2021, January 20). What makes for a good movie? Towards Data Science. <a href=\"https://towardsdatascience.com/what-makes-for-a-good-movie-8e10896e0f1b\">(source)</a></span>\n",
    "    <a href=\"#cite_ref-3\" title=\"Jump back to footnote 3 in the text.\">↩</a>\n",
    "  </li>\n",
    "</ol>\n",
    "</div>\n"
   ]
  }
 ],
 "metadata": {
  "kernelspec": {
   "display_name": "Python 3 (ipykernel)",
   "language": "python",
   "name": "python3"
  },
  "language_info": {
   "codemirror_mode": {
    "name": "ipython",
    "version": 3
   },
   "file_extension": ".py",
   "mimetype": "text/x-python",
   "name": "python",
   "nbconvert_exporter": "python",
   "pygments_lexer": "ipython3",
   "version": "3.9.5"
  }
 },
 "nbformat": 4,
 "nbformat_minor": 2
}
