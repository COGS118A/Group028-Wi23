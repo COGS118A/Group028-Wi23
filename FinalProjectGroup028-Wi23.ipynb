{
 "cells": [
  {
   "cell_type": "markdown",
   "metadata": {},
   "source": [
    "# COGS 118A - Final Project"
   ]
  },
  {
   "cell_type": "markdown",
   "metadata": {},
   "source": [
    "# Rotten Tomatoes Rating Analysis"
   ]
  },
  {
   "cell_type": "markdown",
   "metadata": {
    "id": "aILwSmo-H7Xo"
   },
   "source": [
    "# Names\n",
    "\n",
    "\n",
    "- Eric Lin\n",
    "- Cecilia Martinez\n",
    "- Jared Singletary\n",
    "- Finn St-John"
   ]
  },
  {
   "cell_type": "markdown",
   "metadata": {
    "id": "2TUIEekyH7Xo"
   },
   "source": [
    "# Abstract \n",
    "We will investigate the connection between features of a movie and its rating on the popular movie reviews website Rotten Tomatoes. This website classifies each movie as one of three categories: rotten, fresh, and certified fresh. We plan to use the non-cinematic features of movies to classify them into one of these three categories. Each data point will represent a movie and many of its characteristics. These features include things like genre, release date, runtime, etc. Almost all of these features are nominal or interval. We will be performing classification on our test data to predict the Rotten Tomatoes status of a movie. The status includes the aforementioned three categories. For model selection, we will perform grid-search cross validation and select the model with the best generalization. Since neither false positives nor false negatives pose more risk than the other in the context of our problem, we will evaluate the effectiveness of our model primarily using its f1 score, as this provides a metric that balances the impact of false negatives and false positives.\n"
   ]
  },
  {
   "cell_type": "markdown",
   "metadata": {
    "id": "oI08l4nyH7Xp"
   },
   "source": [
    "# Background\n",
    "\n",
    "Movie ratings are an important aspect of the film industry, with many consumers relying on them to guide their viewing decisions. Rotten Tomatoes is a popular website that provides ratings based on the percentage of positive reviews for a given movie. These ratings are divided into three categories: rotten for scores below 60%, fresh for scores above 60%, and certified fresh for scores above 75% and at least 5 top critic reviews. Additionally, the website includes an audience score as a separate metric<sup id=\"cite_ref-1\"><a href=\"#cite_note-1\">[1]</a></sup>. Despite the popularity of such rating systems, recent research has raised questions about their accuracy in reflecting the opinions of the general public.\n",
    "\n",
    "In a recent study<sup id=\"cite_ref-2\"><a href=\"#cite_note-2\">[2]</a></sup>, researchers found that movie rating scores on Rotten Tomatoes do not necessarily align with the sentiment of audience reviews. This highlights the need for a more nuanced approach to understanding audience preferences. Furthermore, movie popularity can vary significantly across genres, with certain genres like horror, comedy, mystery, and action performing poorly compared to others such as documentary, classics, and animation<sup id=\"cite_ref-3\"><a href=\"#cite_note-3\">[3]</a></sup>. These differences in popularity may impact the effectiveness of a machine learning algorithm trained on movie ratings data, suggesting the need for careful consideration of genre in the analysis.\n"
   ]
  },
  {
   "cell_type": "markdown",
   "metadata": {
    "id": "H6OwyI53H7Xp"
   },
   "source": [
    "# Problem Statement\n",
    "\n",
    "The problem that our project is trying to solve is predicting the rotten tomatoes rating for a movie based on movie features including genre, release date, runtime, and content rating. We will do this by using machine learning algorithms like a random forest classifier and logistic regression to predict if a movie will receive a \"fresh\" rotten tomato score or a \"rotten\" score. \n",
    "\n",
    "The dataset we use makes this very much quantifiable, although certain variables are categorical and must therefore be either one-hot encoded or ordinally encoded so that we can work with it mathematically. We will divide our dataset up into 2/3 training data and 1/3 testing data and then use the metric of \"Precision\" to determine the success of our algorithm. "
   ]
  },
  {
   "cell_type": "markdown",
   "metadata": {},
   "source": [
    "# Data\n",
    "\n",
    "Since we are trying to do an analysis of movies and how their features relate with their reviews, an ideal dataset for our project will allow us to compare several movie features with their review scores. \n",
    "\n",
    "Rotten Tomatoes Movies dataset\n",
    "- https://www.kaggle.com/datasets/stefanoleone992/rotten-tomatoes-movies-and-critic-reviews-dataset?select=rotten_tomatoes_movies.csv\n",
    "- This dataset has 17,712 observations and 22 variables per observation. \n",
    "- An observation in this dataset describes a single movie with many pieces of information about it.\n",
    "- Some important variables are the rotten tomatoes score, the genre of the movie, and the director. \n",
    "- Since there is a good amount of categorical variables like genre and director, we will likely need to use one-hot encoding to clean up that data. \n"
   ]
  },
  {
   "cell_type": "markdown",
   "metadata": {},
   "source": [
    "### Data Cleaning"
   ]
  },
  {
   "cell_type": "code",
   "execution_count": 45,
   "metadata": {},
   "outputs": [],
   "source": [
    "import pandas as pd\n",
    "import seaborn as sns\n",
    "import matplotlib.pyplot as plt\n",
    "import numpy as np\n",
    "import sklearn"
   ]
  },
  {
   "cell_type": "markdown",
   "metadata": {},
   "source": [
    "We read in our rotten tomatoes csv and select only the columns with the information we have deemed to be critical to our machine learning algorithm."
   ]
  },
  {
   "cell_type": "code",
   "execution_count": 46,
   "metadata": {},
   "outputs": [
    {
     "data": {
      "text/html": [
       "<div>\n",
       "<style scoped>\n",
       "    .dataframe tbody tr th:only-of-type {\n",
       "        vertical-align: middle;\n",
       "    }\n",
       "\n",
       "    .dataframe tbody tr th {\n",
       "        vertical-align: top;\n",
       "    }\n",
       "\n",
       "    .dataframe thead th {\n",
       "        text-align: right;\n",
       "    }\n",
       "</style>\n",
       "<table border=\"1\" class=\"dataframe\">\n",
       "  <thead>\n",
       "    <tr style=\"text-align: right;\">\n",
       "      <th></th>\n",
       "      <th>movie_title</th>\n",
       "      <th>content_rating</th>\n",
       "      <th>genres</th>\n",
       "      <th>directors</th>\n",
       "      <th>runtime</th>\n",
       "      <th>tomatometer_status</th>\n",
       "      <th>tomatometer_rating</th>\n",
       "      <th>tomatometer_top_critics_count</th>\n",
       "      <th>tomatometer_fresh_critics_count</th>\n",
       "      <th>tomatometer_rotten_critics_count</th>\n",
       "      <th>original_release_date</th>\n",
       "    </tr>\n",
       "  </thead>\n",
       "  <tbody>\n",
       "    <tr>\n",
       "      <th>0</th>\n",
       "      <td>Percy Jackson &amp; the Olympians: The Lightning T...</td>\n",
       "      <td>PG</td>\n",
       "      <td>Action &amp; Adventure, Comedy, Drama, Science Fic...</td>\n",
       "      <td>Chris Columbus</td>\n",
       "      <td>119.0</td>\n",
       "      <td>Rotten</td>\n",
       "      <td>49.0</td>\n",
       "      <td>43</td>\n",
       "      <td>73</td>\n",
       "      <td>76</td>\n",
       "      <td>2010-02-12</td>\n",
       "    </tr>\n",
       "    <tr>\n",
       "      <th>1</th>\n",
       "      <td>Please Give</td>\n",
       "      <td>R</td>\n",
       "      <td>Comedy</td>\n",
       "      <td>Nicole Holofcener</td>\n",
       "      <td>90.0</td>\n",
       "      <td>Certified-Fresh</td>\n",
       "      <td>87.0</td>\n",
       "      <td>44</td>\n",
       "      <td>123</td>\n",
       "      <td>19</td>\n",
       "      <td>2010-04-30</td>\n",
       "    </tr>\n",
       "    <tr>\n",
       "      <th>2</th>\n",
       "      <td>10</td>\n",
       "      <td>R</td>\n",
       "      <td>Comedy, Romance</td>\n",
       "      <td>Blake Edwards</td>\n",
       "      <td>122.0</td>\n",
       "      <td>Fresh</td>\n",
       "      <td>67.0</td>\n",
       "      <td>2</td>\n",
       "      <td>16</td>\n",
       "      <td>8</td>\n",
       "      <td>1979-10-05</td>\n",
       "    </tr>\n",
       "    <tr>\n",
       "      <th>3</th>\n",
       "      <td>12 Angry Men (Twelve Angry Men)</td>\n",
       "      <td>NR</td>\n",
       "      <td>Classics, Drama</td>\n",
       "      <td>Sidney Lumet</td>\n",
       "      <td>95.0</td>\n",
       "      <td>Certified-Fresh</td>\n",
       "      <td>100.0</td>\n",
       "      <td>6</td>\n",
       "      <td>54</td>\n",
       "      <td>0</td>\n",
       "      <td>1957-04-13</td>\n",
       "    </tr>\n",
       "    <tr>\n",
       "      <th>4</th>\n",
       "      <td>20,000 Leagues Under The Sea</td>\n",
       "      <td>G</td>\n",
       "      <td>Action &amp; Adventure, Drama, Kids &amp; Family</td>\n",
       "      <td>Richard Fleischer</td>\n",
       "      <td>127.0</td>\n",
       "      <td>Fresh</td>\n",
       "      <td>89.0</td>\n",
       "      <td>5</td>\n",
       "      <td>24</td>\n",
       "      <td>3</td>\n",
       "      <td>1954-01-01</td>\n",
       "    </tr>\n",
       "  </tbody>\n",
       "</table>\n",
       "</div>"
      ],
      "text/plain": [
       "                                         movie_title content_rating  \\\n",
       "0  Percy Jackson & the Olympians: The Lightning T...             PG   \n",
       "1                                        Please Give              R   \n",
       "2                                                 10              R   \n",
       "3                    12 Angry Men (Twelve Angry Men)             NR   \n",
       "4                       20,000 Leagues Under The Sea              G   \n",
       "\n",
       "                                              genres          directors  \\\n",
       "0  Action & Adventure, Comedy, Drama, Science Fic...     Chris Columbus   \n",
       "1                                             Comedy  Nicole Holofcener   \n",
       "2                                    Comedy, Romance      Blake Edwards   \n",
       "3                                    Classics, Drama       Sidney Lumet   \n",
       "4           Action & Adventure, Drama, Kids & Family  Richard Fleischer   \n",
       "\n",
       "   runtime tomatometer_status  tomatometer_rating  \\\n",
       "0    119.0             Rotten                49.0   \n",
       "1     90.0    Certified-Fresh                87.0   \n",
       "2    122.0              Fresh                67.0   \n",
       "3     95.0    Certified-Fresh               100.0   \n",
       "4    127.0              Fresh                89.0   \n",
       "\n",
       "   tomatometer_top_critics_count  tomatometer_fresh_critics_count  \\\n",
       "0                             43                               73   \n",
       "1                             44                              123   \n",
       "2                              2                               16   \n",
       "3                              6                               54   \n",
       "4                              5                               24   \n",
       "\n",
       "   tomatometer_rotten_critics_count original_release_date  \n",
       "0                                76            2010-02-12  \n",
       "1                                19            2010-04-30  \n",
       "2                                 8            1979-10-05  \n",
       "3                                 0            1957-04-13  \n",
       "4                                 3            1954-01-01  "
      ]
     },
     "execution_count": 46,
     "metadata": {},
     "output_type": "execute_result"
    }
   ],
   "source": [
    "movies = pd.read_csv('data/rotten_tomatoes_movies.csv')\n",
    "critical_columns = ['movie_title', 'content_rating', 'genres', 'directors', 'runtime', 'tomatometer_status', \n",
    "                    'tomatometer_rating', 'tomatometer_top_critics_count', 'tomatometer_fresh_critics_count',\n",
    "                    'tomatometer_rotten_critics_count', 'original_release_date']\n",
    "movies = movies[critical_columns]\n",
    "movies.head()"
   ]
  },
  {
   "cell_type": "markdown",
   "metadata": {},
   "source": [
    "We know that the genre of the movie will be an important predictor, so we collect all the different genres into a set so we can see the unique values. "
   ]
  },
  {
   "cell_type": "code",
   "execution_count": 47,
   "metadata": {},
   "outputs": [
    {
     "name": "stdout",
     "output_type": "stream",
     "text": [
      "{'Drama', 'Anime & Manga', 'Special Interest', 'Kids & Family', 'Documentary', 'Gay & Lesbian', 'Classics', 'Science Fiction & Fantasy', 'Comedy', 'Art House & International', 'Cult Movies', 'Mystery & Suspense', 'Musical & Performing Arts', 'Western', 'Television', 'Action & Adventure', 'Horror', 'Faith & Spirituality', 'Animation', 'Sports & Fitness', 'Romance'}\n"
     ]
    }
   ],
   "source": [
    "genre_set = set()\n",
    "for i in movies['genres']:\n",
    "    if (type(i) == str):\n",
    "        for j in i.split(','):\n",
    "            j = j.strip()\n",
    "            genre_set.add(j)\n",
    "print(genre_set)"
   ]
  },
  {
   "cell_type": "markdown",
   "metadata": {},
   "source": [
    "We are interested in how many null values are in our csv because they can cause errors in our machine learning algorithms. We look through the columns and see how many null values they all have."
   ]
  },
  {
   "cell_type": "code",
   "execution_count": 48,
   "metadata": {},
   "outputs": [
    {
     "name": "stdout",
     "output_type": "stream",
     "text": [
      "movie_title 0\n",
      "content_rating 0\n",
      "genres 19\n",
      "directors 194\n",
      "runtime 314\n",
      "tomatometer_status 44\n",
      "tomatometer_rating 44\n",
      "tomatometer_top_critics_count 0\n",
      "tomatometer_fresh_critics_count 0\n",
      "tomatometer_rotten_critics_count 0\n",
      "original_release_date 1166\n"
     ]
    }
   ],
   "source": [
    "for i in movies.columns:\n",
    "    print(i,movies[i].isnull().values.sum())"
   ]
  },
  {
   "cell_type": "markdown",
   "metadata": {},
   "source": [
    "Since there aren't very many null values across our columns, we will just drop all the null values to avoid any problems later on. "
   ]
  },
  {
   "cell_type": "code",
   "execution_count": 49,
   "metadata": {},
   "outputs": [
    {
     "data": {
      "text/plain": [
       "(16208, 11)"
      ]
     },
     "execution_count": 49,
     "metadata": {},
     "output_type": "execute_result"
    }
   ],
   "source": [
    "movies = movies.dropna()\n",
    "movies.shape"
   ]
  },
  {
   "cell_type": "markdown",
   "metadata": {},
   "source": [
    "Genres list is a categorigal variable with no order. So we one hot encoded it.\n",
    "To one hot encode the genres, first made genres into a new genres list. Then, applied Series to each 'genres list' element"
   ]
  },
  {
   "cell_type": "code",
   "execution_count": 50,
   "metadata": {},
   "outputs": [
    {
     "data": {
      "text/plain": [
       "R        6092\n",
       "NR       4507\n",
       "PG-13    2863\n",
       "PG       2067\n",
       "G         644\n",
       "NC17       35\n",
       "Name: content_rating, dtype: int64"
      ]
     },
     "execution_count": 50,
     "metadata": {},
     "output_type": "execute_result"
    }
   ],
   "source": [
    "movies['genres list'] = movies['genres'].str.split(', ', expand=False)\n",
    "genres_series = movies['genres list'].apply(pd.Series).stack()\n",
    "genres_encoded = pd.get_dummies(genres_series).groupby(level=0).sum()\n",
    "# movies = pd.concat([movies, genres_encoded], axis=1)\n",
    "\n",
    "genres_list = []\n",
    "for i in genres_encoded.index:\n",
    "    row_list = genres_encoded.loc[i, :].values.flatten().tolist()\n",
    "    genres_list.append(row_list)\n",
    "\n",
    "movies['genres_encoded'] = genres_list\n",
    "\n",
    "movies['content_rating'].value_counts()"
   ]
  },
  {
   "cell_type": "markdown",
   "metadata": {},
   "source": [
    "Ratings have an order to it, so we turned it into an ordinal numerical value."
   ]
  },
  {
   "cell_type": "code",
   "execution_count": 64,
   "metadata": {},
   "outputs": [],
   "source": [
    "ratings = {'G': 0, 'PG': 1, 'PG-13': 2, 'R': 3, 'NC17': 4, 'NR': 5}\n",
    "\n",
    "movies['content_rating_id'] = movies['content_rating'].map(ratings)"
   ]
  },
  {
   "cell_type": "markdown",
   "metadata": {},
   "source": [
    "We turned original release date into a pandas date time object so we can easily compare it to each other"
   ]
  },
  {
   "cell_type": "code",
   "execution_count": 52,
   "metadata": {},
   "outputs": [],
   "source": [
    "movies['original_release_date'] = pd.to_datetime(movies['original_release_date'])"
   ]
  },
  {
   "cell_type": "code",
   "execution_count": 54,
   "metadata": {},
   "outputs": [
    {
     "data": {
      "text/html": [
       "<div>\n",
       "<style scoped>\n",
       "    .dataframe tbody tr th:only-of-type {\n",
       "        vertical-align: middle;\n",
       "    }\n",
       "\n",
       "    .dataframe tbody tr th {\n",
       "        vertical-align: top;\n",
       "    }\n",
       "\n",
       "    .dataframe thead th {\n",
       "        text-align: right;\n",
       "    }\n",
       "</style>\n",
       "<table border=\"1\" class=\"dataframe\">\n",
       "  <thead>\n",
       "    <tr style=\"text-align: right;\">\n",
       "      <th></th>\n",
       "      <th>movie_title</th>\n",
       "      <th>content_rating</th>\n",
       "      <th>content_rating_id</th>\n",
       "      <th>genres</th>\n",
       "      <th>genres_encoded</th>\n",
       "      <th>directors</th>\n",
       "      <th>runtime</th>\n",
       "      <th>original_release_date</th>\n",
       "      <th>tomatometer_status</th>\n",
       "      <th>tomatometer_rating</th>\n",
       "      <th>tomatometer_top_critics_count</th>\n",
       "      <th>tomatometer_fresh_critics_count</th>\n",
       "      <th>tomatometer_rotten_critics_count</th>\n",
       "    </tr>\n",
       "  </thead>\n",
       "  <tbody>\n",
       "    <tr>\n",
       "      <th>0</th>\n",
       "      <td>Percy Jackson &amp; the Olympians: The Lightning T...</td>\n",
       "      <td>PG</td>\n",
       "      <td>[0, 1, 0, 0, 0, 0]</td>\n",
       "      <td>Action &amp; Adventure, Comedy, Drama, Science Fic...</td>\n",
       "      <td>[1, 0, 0, 0, 0, 1, 0, 0, 1, 0, 0, 0, 0, 0, 0, ...</td>\n",
       "      <td>Chris Columbus</td>\n",
       "      <td>119.0</td>\n",
       "      <td>2010-02-12</td>\n",
       "      <td>Rotten</td>\n",
       "      <td>49.0</td>\n",
       "      <td>43</td>\n",
       "      <td>73</td>\n",
       "      <td>76</td>\n",
       "    </tr>\n",
       "    <tr>\n",
       "      <th>1</th>\n",
       "      <td>Please Give</td>\n",
       "      <td>R</td>\n",
       "      <td>[0, 0, 0, 1, 0, 0]</td>\n",
       "      <td>Comedy</td>\n",
       "      <td>[0, 0, 0, 0, 0, 1, 0, 0, 0, 0, 0, 0, 0, 0, 0, ...</td>\n",
       "      <td>Nicole Holofcener</td>\n",
       "      <td>90.0</td>\n",
       "      <td>2010-04-30</td>\n",
       "      <td>Certified-Fresh</td>\n",
       "      <td>87.0</td>\n",
       "      <td>44</td>\n",
       "      <td>123</td>\n",
       "      <td>19</td>\n",
       "    </tr>\n",
       "    <tr>\n",
       "      <th>2</th>\n",
       "      <td>10</td>\n",
       "      <td>R</td>\n",
       "      <td>[0, 0, 0, 1, 0, 0]</td>\n",
       "      <td>Comedy, Romance</td>\n",
       "      <td>[0, 0, 0, 0, 0, 1, 0, 0, 0, 0, 0, 0, 0, 0, 0, ...</td>\n",
       "      <td>Blake Edwards</td>\n",
       "      <td>122.0</td>\n",
       "      <td>1979-10-05</td>\n",
       "      <td>Fresh</td>\n",
       "      <td>67.0</td>\n",
       "      <td>2</td>\n",
       "      <td>16</td>\n",
       "      <td>8</td>\n",
       "    </tr>\n",
       "    <tr>\n",
       "      <th>3</th>\n",
       "      <td>12 Angry Men (Twelve Angry Men)</td>\n",
       "      <td>NR</td>\n",
       "      <td>[0, 0, 0, 0, 0, 1]</td>\n",
       "      <td>Classics, Drama</td>\n",
       "      <td>[0, 0, 0, 0, 1, 0, 0, 0, 1, 0, 0, 0, 0, 0, 0, ...</td>\n",
       "      <td>Sidney Lumet</td>\n",
       "      <td>95.0</td>\n",
       "      <td>1957-04-13</td>\n",
       "      <td>Certified-Fresh</td>\n",
       "      <td>100.0</td>\n",
       "      <td>6</td>\n",
       "      <td>54</td>\n",
       "      <td>0</td>\n",
       "    </tr>\n",
       "    <tr>\n",
       "      <th>4</th>\n",
       "      <td>20,000 Leagues Under The Sea</td>\n",
       "      <td>G</td>\n",
       "      <td>[1, 0, 0, 0, 0, 0]</td>\n",
       "      <td>Action &amp; Adventure, Drama, Kids &amp; Family</td>\n",
       "      <td>[1, 0, 0, 0, 0, 0, 0, 0, 1, 0, 0, 0, 1, 0, 0, ...</td>\n",
       "      <td>Richard Fleischer</td>\n",
       "      <td>127.0</td>\n",
       "      <td>1954-01-01</td>\n",
       "      <td>Fresh</td>\n",
       "      <td>89.0</td>\n",
       "      <td>5</td>\n",
       "      <td>24</td>\n",
       "      <td>3</td>\n",
       "    </tr>\n",
       "  </tbody>\n",
       "</table>\n",
       "</div>"
      ],
      "text/plain": [
       "                                         movie_title content_rating  \\\n",
       "0  Percy Jackson & the Olympians: The Lightning T...             PG   \n",
       "1                                        Please Give              R   \n",
       "2                                                 10              R   \n",
       "3                    12 Angry Men (Twelve Angry Men)             NR   \n",
       "4                       20,000 Leagues Under The Sea              G   \n",
       "\n",
       "    content_rating_id                                             genres  \\\n",
       "0  [0, 1, 0, 0, 0, 0]  Action & Adventure, Comedy, Drama, Science Fic...   \n",
       "1  [0, 0, 0, 1, 0, 0]                                             Comedy   \n",
       "2  [0, 0, 0, 1, 0, 0]                                    Comedy, Romance   \n",
       "3  [0, 0, 0, 0, 0, 1]                                    Classics, Drama   \n",
       "4  [1, 0, 0, 0, 0, 0]           Action & Adventure, Drama, Kids & Family   \n",
       "\n",
       "                                      genres_encoded          directors  \\\n",
       "0  [1, 0, 0, 0, 0, 1, 0, 0, 1, 0, 0, 0, 0, 0, 0, ...     Chris Columbus   \n",
       "1  [0, 0, 0, 0, 0, 1, 0, 0, 0, 0, 0, 0, 0, 0, 0, ...  Nicole Holofcener   \n",
       "2  [0, 0, 0, 0, 0, 1, 0, 0, 0, 0, 0, 0, 0, 0, 0, ...      Blake Edwards   \n",
       "3  [0, 0, 0, 0, 1, 0, 0, 0, 1, 0, 0, 0, 0, 0, 0, ...       Sidney Lumet   \n",
       "4  [1, 0, 0, 0, 0, 0, 0, 0, 1, 0, 0, 0, 1, 0, 0, ...  Richard Fleischer   \n",
       "\n",
       "   runtime original_release_date tomatometer_status  tomatometer_rating  \\\n",
       "0    119.0            2010-02-12             Rotten                49.0   \n",
       "1     90.0            2010-04-30    Certified-Fresh                87.0   \n",
       "2    122.0            1979-10-05              Fresh                67.0   \n",
       "3     95.0            1957-04-13    Certified-Fresh               100.0   \n",
       "4    127.0            1954-01-01              Fresh                89.0   \n",
       "\n",
       "   tomatometer_top_critics_count  tomatometer_fresh_critics_count  \\\n",
       "0                             43                               73   \n",
       "1                             44                              123   \n",
       "2                              2                               16   \n",
       "3                              6                               54   \n",
       "4                              5                               24   \n",
       "\n",
       "   tomatometer_rotten_critics_count  \n",
       "0                                76  \n",
       "1                                19  \n",
       "2                                 8  \n",
       "3                                 0  \n",
       "4                                 3  "
      ]
     },
     "execution_count": 54,
     "metadata": {},
     "output_type": "execute_result"
    }
   ],
   "source": [
    "#reordering the columns\n",
    "reordered_columns = ['movie_title', 'content_rating', 'content_rating_id', 'genres', 'genres_encoded', 'directors',\n",
    "                    'runtime', 'original_release_date', 'tomatometer_status', 'tomatometer_rating', \n",
    "                    'tomatometer_top_critics_count', 'tomatometer_fresh_critics_count', 'tomatometer_rotten_critics_count']\n",
    "movies = movies[reordered_columns]\n",
    "movies.head()"
   ]
  },
  {
   "cell_type": "code",
   "execution_count": 55,
   "metadata": {},
   "outputs": [
    {
     "data": {
      "text/plain": [
       "(16208, 13)"
      ]
     },
     "execution_count": 55,
     "metadata": {},
     "output_type": "execute_result"
    }
   ],
   "source": [
    "movies.shape"
   ]
  },
  {
   "cell_type": "markdown",
   "metadata": {},
   "source": [
    "### Data Visualizations"
   ]
  },
  {
   "cell_type": "markdown",
   "metadata": {},
   "source": [
    "First we do a heatmap to get an idea of possible correlations between variables. "
   ]
  },
  {
   "cell_type": "code",
   "execution_count": 65,
   "metadata": {},
   "outputs": [
    {
     "data": {
      "image/png": "[encoded data removed]",
      "text/plain": [
       "<Figure size 1000x1000 with 2 Axes>"
      ]
     },
     "metadata": {},
     "output_type": "display_data"
    }
   ],
   "source": [
    "selected_columns = ['original_release_date', 'runtime', 'content_rating_id', 'tomatometer_rating']\n",
    "movies_corr = movies.loc[:,selected_columns].corr(numeric_only=False)\n",
    "sns.set(rc={\"figure.figsize\":(10, 10)})\n",
    "sns.heatmap(movies_corr, annot = True);"
   ]
  },
  {
   "cell_type": "markdown",
   "metadata": {},
   "source": [
    "From this heatmap we can see that there is a slight negative correlation (-0.21) which tells us that there is some truth to the idea that critics give higher ratings to older movies and lower ratings to newer ones. \n",
    "\n",
    "There is also a slight positive correlation (0.14) between the content rating of a movie and the critic ratings which would hint at movies with a more adult content rating receiving higher reviews than movies targeted towards kids. "
   ]
  },
  {
   "cell_type": "markdown",
   "metadata": {},
   "source": [
    "Next we figure out the percentage of each genre of movie that are given Fresh or Certified-Fresh reviews in order to see which genres are highest and lowest rated. "
   ]
  },
  {
   "cell_type": "code",
   "execution_count": 57,
   "metadata": {},
   "outputs": [
    {
     "name": "stdout",
     "output_type": "stream",
     "text": [
      "{0: [1545, 1753], 1: [317, 219], 2: [15, 3], 3: [1703, 614], 4: [1331, 258], 5: [2532, 2734], 6: [56, 42], 7: [1574, 221], 8: [5410, 3532], 9: [43, 28], 10: [34, 38], 11: [776, 1040], 12: [496, 529], 13: [669, 262], 14: [1588, 1702], 15: [1012, 804], 16: [844, 884], 17: [956, 195], 18: [122, 43], 19: [159, 52], 20: [184, 105]}\n"
     ]
    }
   ],
   "source": [
    "genres_dict = {}\n",
    "for i in range(len(genre_set)):\n",
    "    genres_dict[i] = [0,0]\n",
    "    \n",
    "for index in movies.index:\n",
    "    genres_enc = movies.loc[index,'genres_encoded']\n",
    "    tomato = movies.loc[index,'tomatometer_status']\n",
    "    \n",
    "    for i in range(len(genres_enc)):\n",
    "        if genres_enc[i] == 1:\n",
    "            if tomato == 'Fresh' or tomato == 'Certified-Fresh':\n",
    "                genres_dict[i][0] += 1\n",
    "            else:\n",
    "                genres_dict[i][1] += 1\n",
    "\n",
    "        \n",
    "print(genres_dict)"
   ]
  },
  {
   "cell_type": "code",
   "execution_count": 58,
   "metadata": {},
   "outputs": [
    {
     "name": "stdout",
     "output_type": "stream",
     "text": [
      "{'Action & Adventure': 0.468465736810188, 'Animation': 0.5914179104477612, 'Anime & Manga': 0.8333333333333334, 'Art House & International': 0.735002157962883, 'Classics': 0.8376337319068596, 'Comedy': 0.4808203570072161, 'Cult Movies': 0.5714285714285714, 'Documentary': 0.8768802228412256, 'Drama': 0.6050100648624469, 'Faith & Spirituality': 0.6056338028169014, 'Gay & Lesbian': 0.4722222222222222, 'Horror': 0.42731277533039647, 'Kids & Family': 0.48390243902439023, 'Musical & Performing Arts': 0.7185821697099892, 'Mystery & Suspense': 0.4826747720364742, 'Romance': 0.5572687224669604, 'Science Fiction & Fantasy': 0.48842592592592593, 'Special Interest': 0.8305821025195482, 'Sports & Fitness': 0.7393939393939394, 'Television': 0.7535545023696683, 'Western': 0.6366782006920415}\n"
     ]
    }
   ],
   "source": [
    "movies_to_tomato = {}\n",
    "for i in genres_dict:\n",
    "    movies_to_tomato[genres_encoded.columns[i]] = genres_dict[i][0]/float(genres_dict[i][0]+genres_dict[i][1])\n",
    "    \n",
    "print(movies_to_tomato)"
   ]
  },
  {
   "cell_type": "code",
   "execution_count": 63,
   "metadata": {},
   "outputs": [
    {
     "data": {
      "image/png": "[encoded data removed]",
      "text/plain": [
       "<Figure size 1500x600 with 1 Axes>"
      ]
     },
     "metadata": {},
     "output_type": "display_data"
    }
   ],
   "source": [
    "keys = list(movies_to_tomato.keys())\n",
    "vals = [float(movies_to_tomato[k]) for k in keys]\n",
    "\n",
    "sns.set(rc={\"figure.figsize\":(15, 6)})\n",
    "plot = sns.barplot(x=keys, y=vals)\n",
    "plot.set_title(\"Percent of Reviews that are Fresh by Genre\")\n",
    "plot.set_xticklabels(labels = keys,rotation=90);"
   ]
  },
  {
   "cell_type": "markdown",
   "metadata": {},
   "source": [
    "From this bar graph we can see that some genres receive higher ratings than others. For example, Documentaries, Classics, Anime & Manga, and Special Interest movies are much more likely to receive positive reviews than a genre like Horror, so we would expect our Machine Learning algorithm to predict higher ratings for those genres on average than for Horror movies. "
   ]
  },
  {
   "cell_type": "markdown",
   "metadata": {},
   "source": [
    "Lastly we wanted to look at the runtime of movies compared with the rating the movie received. "
   ]
  },
  {
   "cell_type": "code",
   "execution_count": 60,
   "metadata": {},
   "outputs": [
    {
     "data": {
      "text/plain": [
       "Text(0.5, 1.0, 'Distribution of Movie Ratings and Runtime')"
      ]
     },
     "execution_count": 60,
     "metadata": {},
     "output_type": "execute_result"
    },
    {
     "data": {
      "image/png": "[encoded data removed]",
      "text/plain": [
       "<Figure size 1500x600 with 1 Axes>"
      ]
     },
     "metadata": {},
     "output_type": "display_data"
    }
   ],
   "source": [
    "sns.set(rc={\"figure.figsize\":(15, 6)})\n",
    "plot = sns.kdeplot(x=movies['runtime'], y=movies['tomatometer_rating'])\n",
    "plot.set_title(\"Distribution of Movie Ratings and Runtime\")"
   ]
  },
  {
   "cell_type": "markdown",
   "metadata": {},
   "source": [
    "We see that most movies end up being around 90 minutes long. There seems to be a very slight trend towards a higher rating with movies between 110-150 minutes long, but overall there is a very slight positive correlation between runtime and rating. "
   ]
  },
  {
   "cell_type": "markdown",
   "metadata": {
    "id": "LY2ho0p3H7Xq"
   },
   "source": [
    "# Proposed Solution\n",
    "\n",
    "We predict that these features, while not completely evident in the content of the movie, will be a large predictor of the movie’s rating. More specifically, we predict that the director will have a large influence on the overall rating given to the movie. Additionally, we predict that certain genres will be rated more highly than others across the board. We believe that a classification model will be able to effectively find a connection between director and rating and genre and rating. We will test each solution using our selected metric: the f1 score of a model. We believe that there is a connection to discover between these non-cinematic characteristics and the rating of the movie, whether it is a large connection or small connection, and therefore believe that a classification model will be able to effectively identify this connection.\n",
    "\n",
    "The classifiers we have tested are support vector machines, logistic regression, and random forest. There are a two things to consider when selecting our model. We must consider the ability of the model to approximate more complex functions, and we must consider the interpretability of the classifier. SVMs, while powerful are not very interpretable. Logistic Regression is less powerful, but more interpretable. \n",
    "\n",
    "After performing grid search cross-validation on these three algorithms, we are most interested in using a random forest classifier.\n",
    "\n",
    "Because we are looking to discover an inherent connection between certain features of our data, we would like to select the most interpretable model. However, because model interpretability scales inversely with model capacity (the amount of functions a model can approximate), we have to balance these two characteristics. Because we need to find a good medium, we are looking into using a random forest classifier. Random forest classifiers comprise many decision trees. Decision trees are some of the most interpretable classifiers available for use. Additionally, because random forests are ensemble learners, it's acceptable to use a less complex model (decision trees, in this case). \n",
    "\n",
    "Using a random forest classifier allows us to get the best of both worlds. Our model will have high interpretability, as well as a high model capacity and high prediction ability."
   ]
  },
  {
   "cell_type": "markdown",
   "metadata": {
    "id": "QE4rImmoH7Xr"
   },
   "source": [
    "# Evaluation Metrics\n",
    "\n",
    "The evaluation model we will use will be based on precision, as it is the most valuable metric to look at in the context of this problem. \n",
    "\n",
    "If a filmmaker were to create a movie based on this machine learning algorithm, spending money, time, and effort on a movie that our model predicted would do well, but then flops in reality (false positive), there would be significantly worse consequences for the filmmaker than a movie that’s expected to do poorly but ends up doing really well (false negative). A false negative would have little effect when actually using our model in practice, as filmmakers rarely have the intention of making a bad movie. As such, maximizing the precision score would minimize the amount of false positives, making a more useful model. \n",
    "\n",
    "Precision = True Positive/(True Positive + False Positive)\n"
   ]
  },
  {
   "cell_type": "markdown",
   "metadata": {},
   "source": [
    "# Results"
   ]
  },
  {
   "cell_type": "markdown",
   "metadata": {},
   "source": [
    "Classifiers and hyperparameters we tested:\n",
    "\n",
    "#### SVM:\n",
    "- C: 0.1, 1, 5, 10, 100\n",
    "- Kernel: linear, RBF\n",
    "\n",
    "#### Logistic Regression:\n",
    "- Penalty: L1, L2\n",
    "- C: 0.01, 0.1, 1, 10\n",
    "- Solver: Liblinear, Saga, Newton-CG, Newton-Cholesky, Sag, LBGFS\n",
    "\n",
    "#### Random Forest:\n",
    "- Number of Estimators: 100, 200, 400, 600\n",
    "- Criterion: Gini, Entropy\n",
    "- Max Depth: 50, 60, 90\n",
    "- Minimum Samples for Split: 2, 7, 9, 12\n",
    "- Max Features: Square-root\n",
    "\n",
    "#### K-Nearest Neighbors\n",
    "- Number of Neighbors: 3, 5, 7, 9, 11\n",
    "- Weights: Uniform, Distance\n",
    "- Algorithm: Ball Tree, KD Tree, Brute"
   ]
  },
  {
   "cell_type": "markdown",
   "metadata": {},
   "source": [
    "After some formatting, test estimators on predicting `tomatometer_status` using rating, runtime, release month, and genres.\n",
    "\n",
    "Our selected classifiers include:\n",
    "1. SVM\n",
    "2. Logistic Regression\n",
    "3. Random Forests\n",
    "4. K-Nearest Neighbors\n",
    "\n",
    "Each of these can be used as binary classifiers, so they should apply well to our data & problem. This set of algorithms also tests high and low interpretability and high and low complexity/power. "
   ]
  },
  {
   "cell_type": "markdown",
   "metadata": {},
   "source": [
    "### Some more data formatting"
   ]
  },
  {
   "cell_type": "code",
   "execution_count": 77,
   "metadata": {},
   "outputs": [
    {
     "data": {
      "text/html": [
       "<div>\n",
       "<style scoped>\n",
       "    .dataframe tbody tr th:only-of-type {\n",
       "        vertical-align: middle;\n",
       "    }\n",
       "\n",
       "    .dataframe tbody tr th {\n",
       "        vertical-align: top;\n",
       "    }\n",
       "\n",
       "    .dataframe thead th {\n",
       "        text-align: right;\n",
       "    }\n",
       "</style>\n",
       "<table border=\"1\" class=\"dataframe\">\n",
       "  <thead>\n",
       "    <tr style=\"text-align: right;\">\n",
       "      <th></th>\n",
       "      <th>0</th>\n",
       "      <th>1</th>\n",
       "      <th>2</th>\n",
       "      <th>3</th>\n",
       "      <th>4</th>\n",
       "      <th>5</th>\n",
       "      <th>6</th>\n",
       "      <th>7</th>\n",
       "      <th>8</th>\n",
       "      <th>9</th>\n",
       "      <th>...</th>\n",
       "      <th>20</th>\n",
       "      <th>21</th>\n",
       "      <th>22</th>\n",
       "      <th>23</th>\n",
       "      <th>24</th>\n",
       "      <th>25</th>\n",
       "      <th>26</th>\n",
       "      <th>27</th>\n",
       "      <th>28</th>\n",
       "      <th>29</th>\n",
       "    </tr>\n",
       "  </thead>\n",
       "  <tbody>\n",
       "    <tr>\n",
       "      <th>0</th>\n",
       "      <td>2</td>\n",
       "      <td>2010</td>\n",
       "      <td>1</td>\n",
       "      <td>0</td>\n",
       "      <td>0</td>\n",
       "      <td>0</td>\n",
       "      <td>0</td>\n",
       "      <td>1</td>\n",
       "      <td>0</td>\n",
       "      <td>0</td>\n",
       "      <td>...</td>\n",
       "      <td>0</td>\n",
       "      <td>0</td>\n",
       "      <td>0</td>\n",
       "      <td>119.0</td>\n",
       "      <td>0</td>\n",
       "      <td>1</td>\n",
       "      <td>0</td>\n",
       "      <td>0</td>\n",
       "      <td>0</td>\n",
       "      <td>0</td>\n",
       "    </tr>\n",
       "    <tr>\n",
       "      <th>1</th>\n",
       "      <td>4</td>\n",
       "      <td>2010</td>\n",
       "      <td>0</td>\n",
       "      <td>0</td>\n",
       "      <td>0</td>\n",
       "      <td>0</td>\n",
       "      <td>0</td>\n",
       "      <td>1</td>\n",
       "      <td>0</td>\n",
       "      <td>0</td>\n",
       "      <td>...</td>\n",
       "      <td>0</td>\n",
       "      <td>0</td>\n",
       "      <td>0</td>\n",
       "      <td>90.0</td>\n",
       "      <td>0</td>\n",
       "      <td>0</td>\n",
       "      <td>0</td>\n",
       "      <td>1</td>\n",
       "      <td>0</td>\n",
       "      <td>0</td>\n",
       "    </tr>\n",
       "    <tr>\n",
       "      <th>2</th>\n",
       "      <td>10</td>\n",
       "      <td>1979</td>\n",
       "      <td>0</td>\n",
       "      <td>0</td>\n",
       "      <td>0</td>\n",
       "      <td>0</td>\n",
       "      <td>0</td>\n",
       "      <td>1</td>\n",
       "      <td>0</td>\n",
       "      <td>0</td>\n",
       "      <td>...</td>\n",
       "      <td>0</td>\n",
       "      <td>0</td>\n",
       "      <td>0</td>\n",
       "      <td>122.0</td>\n",
       "      <td>0</td>\n",
       "      <td>0</td>\n",
       "      <td>0</td>\n",
       "      <td>1</td>\n",
       "      <td>0</td>\n",
       "      <td>0</td>\n",
       "    </tr>\n",
       "    <tr>\n",
       "      <th>3</th>\n",
       "      <td>4</td>\n",
       "      <td>1957</td>\n",
       "      <td>0</td>\n",
       "      <td>0</td>\n",
       "      <td>0</td>\n",
       "      <td>0</td>\n",
       "      <td>1</td>\n",
       "      <td>0</td>\n",
       "      <td>0</td>\n",
       "      <td>0</td>\n",
       "      <td>...</td>\n",
       "      <td>0</td>\n",
       "      <td>0</td>\n",
       "      <td>0</td>\n",
       "      <td>95.0</td>\n",
       "      <td>0</td>\n",
       "      <td>0</td>\n",
       "      <td>0</td>\n",
       "      <td>0</td>\n",
       "      <td>0</td>\n",
       "      <td>1</td>\n",
       "    </tr>\n",
       "    <tr>\n",
       "      <th>4</th>\n",
       "      <td>1</td>\n",
       "      <td>1954</td>\n",
       "      <td>1</td>\n",
       "      <td>0</td>\n",
       "      <td>0</td>\n",
       "      <td>0</td>\n",
       "      <td>0</td>\n",
       "      <td>0</td>\n",
       "      <td>0</td>\n",
       "      <td>0</td>\n",
       "      <td>...</td>\n",
       "      <td>0</td>\n",
       "      <td>0</td>\n",
       "      <td>0</td>\n",
       "      <td>127.0</td>\n",
       "      <td>1</td>\n",
       "      <td>0</td>\n",
       "      <td>0</td>\n",
       "      <td>0</td>\n",
       "      <td>0</td>\n",
       "      <td>0</td>\n",
       "    </tr>\n",
       "  </tbody>\n",
       "</table>\n",
       "<p>5 rows × 30 columns</p>\n",
       "</div>"
      ],
      "text/plain": [
       "   0     1   2   3   4   5   6   7   8   9   ...  20  21  22     23  24  25  \\\n",
       "0   2  2010   1   0   0   0   0   1   0   0  ...   0   0   0  119.0   0   1   \n",
       "1   4  2010   0   0   0   0   0   1   0   0  ...   0   0   0   90.0   0   0   \n",
       "2  10  1979   0   0   0   0   0   1   0   0  ...   0   0   0  122.0   0   0   \n",
       "3   4  1957   0   0   0   0   1   0   0   0  ...   0   0   0   95.0   0   0   \n",
       "4   1  1954   1   0   0   0   0   0   0   0  ...   0   0   0  127.0   1   0   \n",
       "\n",
       "   26  27  28  29  \n",
       "0   0   0   0   0  \n",
       "1   0   1   0   0  \n",
       "2   0   1   0   0  \n",
       "3   0   0   0   1  \n",
       "4   0   0   0   0  \n",
       "\n",
       "[5 rows x 30 columns]"
      ]
     },
     "execution_count": 77,
     "metadata": {},
     "output_type": "execute_result"
    }
   ],
   "source": [
    "status_encoded = pd.get_dummies(movies['tomatometer_status']).groupby(level=0).sum()\n",
    "\n",
    "status_list = []\n",
    "for i in status_encoded.index:\n",
    "    row_list = status_encoded.loc[i, :].values.flatten().tolist()\n",
    "    status_list.append(row_list[::-1])\n",
    "\n",
    "movies['status_encoded'] = status_list\n",
    "\n",
    "# turn tomatometer status into binary so that we can use binary classifiers\n",
    "binary_encoding = []\n",
    "certified_fresh = [0, 0, 1]\n",
    "fresh = [0, 1, 0]\n",
    "# for each one hot encoded list\n",
    "for val in status_list:\n",
    "    # val is fresh or certified fresh\n",
    "    if val in [fresh, certified_fresh]:\n",
    "        binary_encoding.append(1)\n",
    "    else:\n",
    "        binary_encoding.append(0)\n",
    "        \n",
    "movies['binary_tomatometer_status'] = binary_encoding\n",
    "\n",
    "# one hot encode content rating id\n",
    "ratings = {\n",
    "    'G': [1, 0, 0, 0, 0, 0],\n",
    "    'PG': [0, 1, 0, 0, 0, 0],\n",
    "    'PG-13': [0, 0, 1, 0, 0, 0],\n",
    "    'R': [0, 0, 0, 1, 0, 0],\n",
    "    'NC17': [0, 0, 0, 0, 1, 0],\n",
    "    'NR': [0, 0, 0, 0, 0, 1]\n",
    "}\n",
    "\n",
    "movies['content_rating_one_hot'] = movies['content_rating'].map(ratings)\n",
    "\n",
    "# create month column\n",
    "movies['original_release_date']\n",
    "\n",
    "movies['original_release_month'] = [d.month for d in movies['original_release_date']]\n",
    "\n",
    "movies['original_release_year'] = [d.year for d in movies['original_release_date']]\n",
    "\n",
    "selected_columns = ['original_release_month', 'original_release_year', 'genres_encoded', 'runtime', 'content_rating_one_hot']\n",
    "\n",
    "data = np.array(movies[selected_columns])\n",
    "\n",
    "vectorized_data = []\n",
    "for d in data:\n",
    "    data_point = []\n",
    "    for feature in d:\n",
    "        if type(feature) is list:\n",
    "            data_point.extend(feature)\n",
    "        else:\n",
    "            data_point.append(feature)\n",
    "    vectorized_data.append(data_point)\n",
    "    \n",
    "pd.DataFrame(vectorized_data).head()"
   ]
  },
  {
   "cell_type": "markdown",
   "metadata": {},
   "source": [
    "## Validation"
   ]
  },
  {
   "cell_type": "markdown",
   "metadata": {},
   "source": [
    "### Setup\n",
    "\n",
    "- Import the necessary packges from ScikitLearn and SciPy\n",
    "- Define some helper functions for displaying the results of a grid search\n",
    "- Splitting data into train and test data"
   ]
  },
  {
   "cell_type": "code",
   "execution_count": 78,
   "metadata": {},
   "outputs": [],
   "source": [
    "from sklearn.model_selection import GridSearchCV, train_test_split, RandomizedSearchCV, KFold, RepeatedKFold\n",
    "from sklearn.preprocessing import StandardScaler\n",
    "from sklearn.linear_model import LogisticRegression\n",
    "from sklearn.pipeline import Pipeline\n",
    "from sklearn.svm import SVC\n",
    "from sklearn.ensemble import RandomForestClassifier\n",
    "from sklearn.metrics import confusion_matrix, ConfusionMatrixDisplay\n",
    "from sklearn.neighbors import KNeighborsClassifier\n",
    "\n",
    "from scipy.stats import uniform, truncnorm, randint\n",
    "\n",
    "def plot_results(grid_search):\n",
    "    params = grid_search.cv_results_[\"params\"]\n",
    "    ys = grid_search.cv_results_[\"mean_test_score\"]\n",
    "    xs = ['|'.join(str(v) for v in param.values()) for param in params]\n",
    "    yerr = grid_search.cv_results_[\"std_test_score\"]\n",
    "    plt.errorbar(xs, ys, yerr / np.sqrt(grid_search.cv), fmt='.k')\n",
    "    plt.xticks(rotation=90)\n",
    "    plt.ylabel(\"score\")\n",
    "    plt.xlabel(\"params\")\n",
    "    \n",
    "def display_CM(grid_search, X, y):\n",
    "    y_pred = grid_search.best_estimator_.predict(X)\n",
    "    cm = confusion_matrix(y, y_pred)\n",
    "    disp = ConfusionMatrixDisplay(confusion_matrix=cm)\n",
    "    disp.plot()\n",
    "    plt.show()\n",
    "    \n",
    "def show_best(cv):\n",
    "    print('Best Parameters:')\n",
    "    print(cv.best_params_)\n",
    "    print('Score:', cv.best_score_)\n",
    "\n",
    "X = np.array(vectorized_data)\n",
    "y = np.array(movies['binary_tomatometer_status'])\n",
    "\n",
    "X_train, X_test, y_train, y_test = train_test_split(X, y, test_size=0.33, random_state=42)\n",
    "\n",
    "# Logistic Regression Setup\n",
    "logistic_pipe = Pipeline(steps=[('scaler', StandardScaler()), ('logistic', LogisticRegression(random_state=42))])\n",
    "\n",
    "logistic_params_gs = {\n",
    "    'logistic__penalty': ['l1', 'l2'],\n",
    "    'logistic__C': [0.001, 0.01, 0.1, 1, 10],\n",
    "    'logistic__solver': ['liblinear', 'saga']\n",
    "}\n",
    "\n",
    "logistic_params_rs = {\n",
    "    'logistic__penalty': ['l1', 'l2'],\n",
    "    'logistic__C': uniform(0.01, 100),\n",
    "    'logistic__solver': ['liblinear', 'saga']\n",
    "}\n",
    "\n",
    "# SVM Setup\n",
    "svm_pipe = Pipeline(steps=[('scaler', StandardScaler()), ('svc', SVC(random_state=42))])\n",
    "\n",
    "svm_params_gs = {\n",
    "    'svc__C': [1, 5, 10, 100],\n",
    "    'svc__kernel': ['linear', 'rbf']\n",
    "}\n",
    "\n",
    "svm_params_rs = {\n",
    "    'svc__C': randint(1,100),\n",
    "    'svc__kernel': ['linear', 'rbf']\n",
    "}\n",
    "\n",
    "# Random Forest Setup\n",
    "forest_pipe = Pipeline(steps=[('scaler', StandardScaler()), ('forest', RandomForestClassifier(random_state=42))])\n",
    "\n",
    "forest_params_gs = {\n",
    "    'forest__n_estimators': [50, 100, 200, 400, 600],\n",
    "    'forest__criterion': ['gini', 'entropy'],\n",
    "    'forest__max_depth': [30, 50, 60, 90],\n",
    "    'forest__min_samples_split': [2, 7, 9, 12],\n",
    "    'forest__max_features': ['sqrt'],\n",
    "    'forest__bootstrap': [True]\n",
    "}\n",
    "\n",
    "forest_params_rs = {\n",
    "    'forest__n_estimators': randint(50, 800),\n",
    "    'forest__criterion': ['gini', 'entropy'],\n",
    "    'forest__max_depth': randint(30, 100),\n",
    "    'forest__min_samples_split': randint(2,15),\n",
    "    'forest__max_features': ['sqrt'],\n",
    "    'forest__bootstrap': [True]\n",
    "}\n",
    "\n",
    "# K-Nearest Neighbors Setup\n",
    "\n",
    "knn_pipe = Pipeline(steps=[('scaler', StandardScaler()), ('neighbors', KNeighborsClassifier())])\n",
    "\n",
    "knn_params_gs = {\n",
    "    'neighbors__n_neighbors': [3, 5, 7, 9, 11],\n",
    "    'neighbors__weights': ['uniform', 'distance'],\n",
    "    'neighbors__algorithm': ['ball_tree', 'kd_tree', 'brute']\n",
    "}"
   ]
  },
  {
   "cell_type": "markdown",
   "metadata": {},
   "source": [
    "### Grid Search (Stratified K-Fold)"
   ]
  },
  {
   "cell_type": "markdown",
   "metadata": {},
   "source": [
    "#### Logistic Regression"
   ]
  },
  {
   "cell_type": "code",
   "execution_count": 81,
   "metadata": {},
   "outputs": [],
   "source": [
    "logistic_gscv = GridSearchCV(logistic_pipe, logistic_params_gs, cv=5, verbose=1, scoring='precision')"
   ]
  },
  {
   "cell_type": "code",
   "execution_count": 80,
   "metadata": {
    "collapsed": true
   },
   "outputs": [
    {
     "name": "stdout",
     "output_type": "stream",
     "text": [
      "Fitting 5 folds for each of 20 candidates, totalling 100 fits\n"
     ]
    },
    {
     "name": "stderr",
     "output_type": "stream",
     "text": [
      "Y:\\Users\\Finn St. John\\Programs\\Python\\Python311\\Lib\\site-packages\\sklearn\\linear_model\\_sag.py:350: ConvergenceWarning: The max_iter was reached which means the coef_ did not converge\n",
      "  warnings.warn(\n"
     ]
    },
    {
     "name": "stdout",
     "output_type": "stream",
     "text": [
      "Best Parameters:\n",
      "{'logistic__C': 0.001, 'logistic__penalty': 'l1', 'logistic__solver': 'liblinear'}\n",
      "Score: 0.7632656827537869\n"
     ]
    },
    {
     "data": {
      "image/png": "[encoded data removed]",
      "text/plain": [
       "<Figure size 1000x1000 with 1 Axes>"
      ]
     },
     "metadata": {},
     "output_type": "display_data"
    }
   ],
   "source": [
    "logistic_gscv.fit(X_train, y_train)\n",
    "\n",
    "show_best(logistic_gscv)\n",
    "\n",
    "plot_results(logistic_gscv)"
   ]
  },
  {
   "cell_type": "markdown",
   "metadata": {},
   "source": [
    "#### SVM"
   ]
  },
  {
   "cell_type": "code",
   "execution_count": 82,
   "metadata": {},
   "outputs": [],
   "source": [
    "svm_gscv = GridSearchCV(svm_pipe, svm_params_gs, cv=5, verbose=1, scoring='precision')"
   ]
  },
  {
   "cell_type": "code",
   "execution_count": null,
   "metadata": {},
   "outputs": [],
   "source": [
    "svm_gscv.fit(X_train, y_train)\n",
    "\n",
    "show_best(svm_gscv)\n",
    "\n",
    "plot_results(svm_gscv)"
   ]
  },
  {
   "cell_type": "markdown",
   "metadata": {},
   "source": [
    "#### Random Forest"
   ]
  },
  {
   "cell_type": "code",
   "execution_count": 83,
   "metadata": {},
   "outputs": [],
   "source": [
    "forest_gscv = GridSearchCV(forest_pipe, forest_params_gs, cv=5, verbose=1, scoring='precision')"
   ]
  },
  {
   "cell_type": "code",
   "execution_count": null,
   "metadata": {},
   "outputs": [],
   "source": [
    "forest_gscv.fit(X_train, y_train)\n",
    "\n",
    "show_best(forest_gscv)\n",
    "\n",
    "plot_results(forest_gscv)"
   ]
  },
  {
   "cell_type": "markdown",
   "metadata": {},
   "source": [
    "#### K-Nearest Neighbors"
   ]
  },
  {
   "cell_type": "code",
   "execution_count": 84,
   "metadata": {},
   "outputs": [],
   "source": [
    "knn_gscv = GridSearchCV(knn_pipe, knn_params_gs, cv=5, verbose=1, scoring='precision')"
   ]
  },
  {
   "cell_type": "code",
   "execution_count": null,
   "metadata": {},
   "outputs": [],
   "source": [
    "knn_gscv.fit(X_train, y_train)\n",
    "\n",
    "show_best(knn_gscv)\n",
    "\n",
    "plot_results(knn_gscv)"
   ]
  },
  {
   "cell_type": "markdown",
   "metadata": {},
   "source": [
    "### Grid Search (Repeated K-Fold)"
   ]
  },
  {
   "cell_type": "code",
   "execution_count": 85,
   "metadata": {},
   "outputs": [],
   "source": [
    "rkf = RepeatedKFold(n_splits=5, n_repeats=5, random_state=42)"
   ]
  },
  {
   "cell_type": "markdown",
   "metadata": {},
   "source": [
    "#### Logistic Regression\n",
    "\n",
    "For this validator, we wanted to try other solvers with logistic regression. We had chosen Liblinear and Saga previously because those are the only two that are compatible with both L1 and L2 regularization. "
   ]
  },
  {
   "cell_type": "code",
   "execution_count": 86,
   "metadata": {},
   "outputs": [],
   "source": [
    "logistic_params_rkf = {\n",
    "    'logistic__penalty': ['l2'],\n",
    "    'logistic__C': [0.001, 0.01, 0.1, 1, 10],\n",
    "    'logistic__solver': ['liblinear', 'saga', 'lbfgs', 'newton-cg', 'newton-cholesky', 'sag']\n",
    "}\n",
    "\n",
    "logistic_rkf_gscv = GridSearchCV(logistic_pipe, logistic_params_rkf, cv=rkf, scoring='precision', verbose=1)"
   ]
  },
  {
   "cell_type": "code",
   "execution_count": null,
   "metadata": {},
   "outputs": [],
   "source": [
    "logistic_rkf_gscv.fit(X_train, y_train)\n",
    "\n",
    "show_best(logistic_rkf_gscv)\n",
    "\n",
    "plot_results(logistic_rkf_gscv)"
   ]
  },
  {
   "cell_type": "markdown",
   "metadata": {},
   "source": [
    "#### SVM"
   ]
  },
  {
   "cell_type": "code",
   "execution_count": 87,
   "metadata": {},
   "outputs": [],
   "source": [
    "svm_rkf_gscv = GridSearchCV(svm_pipe, svm_params_gs, cv=rkf, verbose=1, scoring='precision')"
   ]
  },
  {
   "cell_type": "code",
   "execution_count": null,
   "metadata": {},
   "outputs": [],
   "source": [
    "svm_rkf_gscv.fit(X_train, y_train)\n",
    "\n",
    "show_best(svm_rkf_gscv)\n",
    "\n",
    "plot_results(svm_rkf_gscv)"
   ]
  },
  {
   "cell_type": "markdown",
   "metadata": {},
   "source": [
    "#### Random Forest"
   ]
  },
  {
   "cell_type": "code",
   "execution_count": 88,
   "metadata": {},
   "outputs": [],
   "source": [
    "forest_rkf_gscv = GridSearchCV(forest_pipe, forest_params_gs, cv=rkf, verbose=1, scoring='precision')"
   ]
  },
  {
   "cell_type": "code",
   "execution_count": null,
   "metadata": {},
   "outputs": [],
   "source": [
    "forest_rkf_gscv.fit(X_train, y_train)\n",
    "\n",
    "show_best(forest_rkf_gscv)\n",
    "\n",
    "plot_results(forest_rkf_gscv)"
   ]
  },
  {
   "cell_type": "markdown",
   "metadata": {},
   "source": [
    "#### K-Nearest Neighbors"
   ]
  },
  {
   "cell_type": "code",
   "execution_count": 89,
   "metadata": {},
   "outputs": [],
   "source": [
    "knn_rkf_gscv = GridSearchCV(knn_pipe, knn_params_gs, cv=rkf, verbose=1, scoring='precision')"
   ]
  },
  {
   "cell_type": "code",
   "execution_count": null,
   "metadata": {},
   "outputs": [],
   "source": [
    "knn_rkf_gscv.fit(X_train, y_train)\n",
    "\n",
    "show_best(knn_rkf_gscv)\n",
    "\n",
    "plot_results(knn_rkf_gscv)"
   ]
  },
  {
   "cell_type": "markdown",
   "metadata": {},
   "source": [
    "### Grid Search (K-Fold)"
   ]
  },
  {
   "cell_type": "code",
   "execution_count": 90,
   "metadata": {},
   "outputs": [],
   "source": [
    "kf = KFold(n_splits=7, shuffle=True, random_state=42)"
   ]
  },
  {
   "cell_type": "markdown",
   "metadata": {},
   "source": [
    "#### Logistic Regression"
   ]
  },
  {
   "cell_type": "code",
   "execution_count": 91,
   "metadata": {},
   "outputs": [],
   "source": [
    "logistic_kfold_gscv = GridSearchCV(logistic_pipe, logistic_params_gs, cv=kf, scoring='precision', verbose=1)"
   ]
  },
  {
   "cell_type": "code",
   "execution_count": null,
   "metadata": {},
   "outputs": [],
   "source": [
    "logistic_kfold_gscv.fit(X_train, y_train)\n",
    "\n",
    "show_best(logistic_kfold_gscv)\n",
    "\n",
    "plot_results(logistic_kfold_gscv)"
   ]
  },
  {
   "cell_type": "markdown",
   "metadata": {},
   "source": [
    "#### SVM"
   ]
  },
  {
   "cell_type": "code",
   "execution_count": 92,
   "metadata": {},
   "outputs": [],
   "source": [
    "svm_kf_gscv = GridSearchCV(svm_pipe, svm_params_gs, cv=kf, verbose=1, scoring='precision')"
   ]
  },
  {
   "cell_type": "code",
   "execution_count": null,
   "metadata": {},
   "outputs": [],
   "source": [
    "svm_kf_gscv.fit(X_train, y_train)\n",
    "\n",
    "show_best(svm_kf_gscv)\n",
    "\n",
    "plot_results(svm_kf_gscv)"
   ]
  },
  {
   "cell_type": "markdown",
   "metadata": {},
   "source": [
    "#### Random Forest"
   ]
  },
  {
   "cell_type": "code",
   "execution_count": 93,
   "metadata": {},
   "outputs": [],
   "source": [
    "forest_kf_gscv = GridSearchCV(forest_pipe, forest_params_gs, cv=kf, verbose=1, scoring='precision')"
   ]
  },
  {
   "cell_type": "code",
   "execution_count": null,
   "metadata": {},
   "outputs": [],
   "source": [
    "forest_kf_gscv.fit(X_train, y_train)\n",
    "\n",
    "show_best(forest_kf_gscv)\n",
    "\n",
    "plot_results(forest_kf_gscv)"
   ]
  },
  {
   "cell_type": "markdown",
   "metadata": {},
   "source": [
    "#### K-Nearest Neighbors"
   ]
  },
  {
   "cell_type": "code",
   "execution_count": 94,
   "metadata": {},
   "outputs": [],
   "source": [
    "knn_kf_gscv = GridSearchCV(knn_pipe, knn_params_gs, cv=kf, verbose=1, scoring='precision')"
   ]
  },
  {
   "cell_type": "code",
   "execution_count": null,
   "metadata": {},
   "outputs": [],
   "source": [
    "knn_kf_gscv.fit(X_train, y_train)\n",
    "\n",
    "show_best(knn_kf_gscv)\n",
    "\n",
    "plot_results(knn_rkf_gscv)"
   ]
  },
  {
   "cell_type": "markdown",
   "metadata": {},
   "source": [
    "### Randomized Search (Stratified K-Fold)"
   ]
  },
  {
   "cell_type": "markdown",
   "metadata": {},
   "source": [
    "#### Logistic Regression"
   ]
  },
  {
   "cell_type": "code",
   "execution_count": 95,
   "metadata": {},
   "outputs": [],
   "source": [
    "logistic_rscv = RandomizedSearchCV(logistic_pipe, logistic_params_rs, cv=5, verbose=1, scoring='precision')"
   ]
  },
  {
   "cell_type": "code",
   "execution_count": null,
   "metadata": {},
   "outputs": [],
   "source": [
    "logistic_rscv.fit(X_train, y_train)\n",
    "\n",
    "save_best_model(logistic_rscv, './model_selection_results/LogisticRegression.json')\n",
    "\n",
    "plot_results(logistic_rscv)"
   ]
  },
  {
   "cell_type": "markdown",
   "metadata": {},
   "source": [
    "#### SVM"
   ]
  },
  {
   "cell_type": "code",
   "execution_count": 96,
   "metadata": {},
   "outputs": [],
   "source": [
    "svm_rscv = RandomizedSearchCV(svm_pipe, svm_params_rs, cv=5, verbose=1, scoring='precision')"
   ]
  },
  {
   "cell_type": "code",
   "execution_count": null,
   "metadata": {},
   "outputs": [],
   "source": [
    "svm_rscv.fit(X_train, y_train)\n",
    "\n",
    "save_best_model(svm_rscv, './model_selection_results/SVM.json')\n",
    "\n",
    "plot_results(svm_rscv)"
   ]
  },
  {
   "cell_type": "markdown",
   "metadata": {},
   "source": [
    "#### Random Forest"
   ]
  },
  {
   "cell_type": "code",
   "execution_count": 97,
   "metadata": {},
   "outputs": [],
   "source": [
    "forest_rscv = RandomizedSearchCV(forest_pipe, forest_params_rs, cv=5, verbose=1, scoring='precision')"
   ]
  },
  {
   "cell_type": "code",
   "execution_count": null,
   "metadata": {},
   "outputs": [],
   "source": [
    "forest_rscv.fit(X_train, y_train)\n",
    "\n",
    "save_best_model(forest_rscv, './model_selection_results/RandomForest.json')\n",
    "\n",
    "plot_results(forest_rscv)"
   ]
  },
  {
   "cell_type": "markdown",
   "metadata": {},
   "source": [
    "#### K-Nearest Neighbors"
   ]
  },
  {
   "cell_type": "code",
   "execution_count": 98,
   "metadata": {},
   "outputs": [],
   "source": [
    "knn_rscv = GridSearchCV(knn_pipe, knn_params_gs, cv=5, verbose=1, scoring='precision')"
   ]
  },
  {
   "cell_type": "code",
   "execution_count": null,
   "metadata": {},
   "outputs": [],
   "source": [
    "knn_rscv.fit(X_train, y_train)\n",
    "\n",
    "show_best(knn_rscv)\n",
    "\n",
    "plot_results(knn_rscv)"
   ]
  },
  {
   "cell_type": "markdown",
   "metadata": {},
   "source": [
    "### Grid Search (Stratified K-Fold)  W/ One-Hot-Encoded Content Rating"
   ]
  },
  {
   "cell_type": "code",
   "execution_count": null,
   "metadata": {},
   "outputs": [],
   "source": [
    "# One Hot Encode Content Rating\n",
    "\n",
    "max_rating = int(max(X[:, -1]))\n",
    "\n",
    "new_row_length = X.shape[1] + max_rating\n",
    "\n",
    "X_content_one_hot = np.zeros((X.shape[0], new_row_length))\n",
    "\n",
    "for idx, row in enumerate(X):\n",
    "    one_hot = np.zeros((max_rating+1,))\n",
    "    content_rating_id = int(row[-1])\n",
    "    one_hot[content_rating_id] = 1\n",
    "    new_row = np.concatenate((row[:-1], one_hot))\n",
    "    X_content_one_hot[idx] = new_row\n",
    "    \n",
    "X_train, X_test, y_train, y_test = train_test_split(X, y, test_size=0.33, random_state=42)"
   ]
  },
  {
   "cell_type": "markdown",
   "metadata": {},
   "source": [
    "#### Logistic Regression"
   ]
  },
  {
   "cell_type": "code",
   "execution_count": null,
   "metadata": {},
   "outputs": [],
   "source": [
    "logistic_gscv = GridSearchCV(logistic_pipe_gs, logistic_param_grid_gs, cv=5, verbose=1, scoring='precision')"
   ]
  },
  {
   "cell_type": "code",
   "execution_count": null,
   "metadata": {},
   "outputs": [],
   "source": [
    "logistic_gscv.fit(X_train, y_train)\n",
    "\n",
    "show_best(logistic_gscv)\n",
    "\n",
    "plot_results(logistic_gscv)"
   ]
  },
  {
   "cell_type": "markdown",
   "metadata": {},
   "source": [
    "#### SVM"
   ]
  },
  {
   "cell_type": "code",
   "execution_count": null,
   "metadata": {},
   "outputs": [],
   "source": [
    "svm_gscv = GridSearchCV(svm_pipe, svm_params_gs, cv=5, verbose=1, scoring='precision')"
   ]
  },
  {
   "cell_type": "code",
   "execution_count": null,
   "metadata": {},
   "outputs": [],
   "source": [
    "svm_gscv.fit(X_train, y_train)\n",
    "\n",
    "show_best(svm_gscv)\n",
    "\n",
    "plot_results(svm_gscv)"
   ]
  },
  {
   "cell_type": "markdown",
   "metadata": {},
   "source": [
    "#### Random Forest"
   ]
  },
  {
   "cell_type": "code",
   "execution_count": null,
   "metadata": {},
   "outputs": [],
   "source": [
    "forest_gscv = GridSearchCV(forest_pipe, forest_params_gs, cv=5, verbose=1, scoring='precision')"
   ]
  },
  {
   "cell_type": "code",
   "execution_count": null,
   "metadata": {},
   "outputs": [],
   "source": [
    "forest_gscv.fit(X_train, y_train)\n",
    "\n",
    "show_best(forest_gscv)\n",
    "\n",
    "plot_results(forest_gscv)"
   ]
  },
  {
   "cell_type": "markdown",
   "metadata": {},
   "source": [
    "#### K-Nearest Neighbors"
   ]
  },
  {
   "cell_type": "code",
   "execution_count": null,
   "metadata": {},
   "outputs": [],
   "source": [
    "knn_gscv = GridSearchCV(knn_pipe, knn_params_gs, cv=5, verbose=1, scoring='precision')"
   ]
  },
  {
   "cell_type": "code",
   "execution_count": null,
   "metadata": {},
   "outputs": [],
   "source": [
    "knn_gscv.fit(X_train, y_train)\n",
    "\n",
    "show_best(knn_gscv)\n",
    "\n",
    "plot_results(knn_gscv)"
   ]
  },
  {
   "cell_type": "markdown",
   "metadata": {},
   "source": [
    "# Ethics & Privacy"
   ]
  },
  {
   "cell_type": "markdown",
   "metadata": {
    "id": "7yBbcJ7MH7Xs"
   },
   "source": [
    "Since the dataset that we are working with is only using publicly available information about Hollywood movies from the Rotten Tomatoes website, our Machine Learning analysis should not end up running into ethical concerns. One consideration we are taking into account is that this dataset has the names of all the movie reviewers in it, which could be an ethical concern if we include their names in our analysis. We’re going to avoid that though by completely ignoring the names of the critics and dropping it from the data since their names are irrelevant to our project. "
   ]
  },
  {
   "cell_type": "markdown",
   "metadata": {},
   "source": [
    "# Discussion\n",
    "\n",
    "### Interpreting the result\n",
    "\n",
    "OK, you've given us quite a bit of tech information above, now its time to tell us what to pay attention to in all that.  Think clearly about your results, decide on one main point and 2-4 secondary points you want us to understand. Highlight HOW your results support those points.  You probably want 2-5 sentences per point.\n",
    "\n",
    "### Limitations\n",
    "\n",
    "Are there any problems with the work?  For instance would more data change the nature of the problem? Would it be good to explore more hyperparams than you had time for?   \n",
    "\n",
    "### Ethics & Privacy\n",
    "\n",
    "Since the dataset that we are working with is only using publicly available information about Hollywood movies from the Rotten Tomatoes website, our Machine Learning analysis should not end up running into ethical concerns. One consideration we are taking into account is that this dataset has the names of all the movie reviewers in it, which could be an ethical concern if we include their names in our analysis. We’re going to avoid that though by completely ignoring the names of the critics and dropping it from the data since their names are irrelevant to our project. \n",
    "\n",
    "### Conclusion\n",
    "\n",
    "Reiterate your main point and in just a few sentences tell us how your results support it. Mention how this work would fit in the background/context of other work in this field if you can. Suggest directions for future work if you want to."
   ]
  },
  {
   "cell_type": "markdown",
   "metadata": {
    "id": "uiAh367ZH7Xu"
   },
   "source": [
    "# Footnotes\n",
    "\n",
    "<div class=\"footnotes\">\n",
    "<hr>\n",
    "<ol>\n",
    "  <li id=\"cite_note-1\">\n",
    "    <span>Liao, E. (2018, December 8). Can We Predict Rotten Tomatoes Ratings? Towards Data Science. <a href=\"https://towardsdatascience.com/can-we-predict-rotten-tomatoes-ratings-8b5f5b7d7eff\">(source)</a></span>\n",
    "    <a href=\"#cite_ref-1\" title=\"Jump back to footnote 1 in the text.\">↩</a>\n",
    "  </li>\n",
    "  <li id=\"cite_note-2\">\n",
    "    <span>Maio, A. (2020, March 4). How Does Rotten Tomatoes Actually Work? Studio Binder. <a href=\"https://www.studiobinder.com/blog/rotten-tomatoes-ratings-system/\">(source)</a></span>\n",
    "    <a href=\"#cite_ref-2\" title=\"Jump back to footnote 2 in the text.\">↩</a>\n",
    "  </li>\n",
    "  <li id=\"cite_note-3\">\n",
    "    <span>Roper, H. (2021, January 20). What makes for a good movie? Towards Data Science. <a href=\"https://towardsdatascience.com/what-makes-for-a-good-movie-8e10896e0f1b\">(source)</a></span>\n",
    "    <a href=\"#cite_ref-3\" title=\"Jump back to footnote 3 in the text.\">↩</a>\n",
    "  </li>\n",
    "</ol>\n",
    "</div>\n"
   ]
  }
 ],
 "metadata": {
  "kernelspec": {
   "display_name": "Python 3 (ipykernel)",
   "language": "python",
   "name": "python3"
  },
  "language_info": {
   "codemirror_mode": {
    "name": "ipython",
    "version": 3
   },
   "file_extension": ".py",
   "mimetype": "text/x-python",
   "name": "python",
   "nbconvert_exporter": "python",
   "pygments_lexer": "ipython3",
   "version": "3.11.2"
  },
  "vscode": {
   "interpreter": {
    "hash": "2d97291b28ebc2ff000615131b06cad58c22c64eaea404ca3770ee7587249fb7"
   }
  }
 },
 "nbformat": 4,
 "nbformat_minor": 2
}
