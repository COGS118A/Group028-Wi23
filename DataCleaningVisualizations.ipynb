{
 "cells": [
  {
   "cell_type": "markdown",
   "id": "39b374d6",
   "metadata": {},
   "source": [
    "### Data Cleaning"
   ]
  },
  {
   "cell_type": "code",
   "execution_count": 1,
   "id": "3c9dec66",
   "metadata": {},
   "outputs": [],
   "source": [
    "import pandas as pd\n",
    "import seaborn as sns\n",
    "import matplotlib.pyplot as plt\n",
    "import numpy as np\n",
    "import sklearn"
   ]
  },
  {
   "cell_type": "markdown",
   "id": "3b91d6e9",
   "metadata": {},
   "source": [
    "We read in our rotten tomatoes csv and select only the columns with the information we have deemed to be critical to our machine learning algorithm."
   ]
  },
  {
   "cell_type": "code",
   "execution_count": 2,
   "id": "e391d13d",
   "metadata": {
    "scrolled": true
   },
   "outputs": [
    {
     "data": {
      "text/html": [
       "<div>\n",
       "<style scoped>\n",
       "    .dataframe tbody tr th:only-of-type {\n",
       "        vertical-align: middle;\n",
       "    }\n",
       "\n",
       "    .dataframe tbody tr th {\n",
       "        vertical-align: top;\n",
       "    }\n",
       "\n",
       "    .dataframe thead th {\n",
       "        text-align: right;\n",
       "    }\n",
       "</style>\n",
       "<table border=\"1\" class=\"dataframe\">\n",
       "  <thead>\n",
       "    <tr style=\"text-align: right;\">\n",
       "      <th></th>\n",
       "      <th>movie_title</th>\n",
       "      <th>content_rating</th>\n",
       "      <th>genres</th>\n",
       "      <th>directors</th>\n",
       "      <th>runtime</th>\n",
       "      <th>tomatometer_status</th>\n",
       "      <th>tomatometer_rating</th>\n",
       "      <th>tomatometer_top_critics_count</th>\n",
       "      <th>tomatometer_fresh_critics_count</th>\n",
       "      <th>tomatometer_rotten_critics_count</th>\n",
       "      <th>original_release_date</th>\n",
       "    </tr>\n",
       "  </thead>\n",
       "  <tbody>\n",
       "    <tr>\n",
       "      <th>0</th>\n",
       "      <td>Percy Jackson &amp; the Olympians: The Lightning T...</td>\n",
       "      <td>PG</td>\n",
       "      <td>Action &amp; Adventure, Comedy, Drama, Science Fic...</td>\n",
       "      <td>Chris Columbus</td>\n",
       "      <td>119.0</td>\n",
       "      <td>Rotten</td>\n",
       "      <td>49.0</td>\n",
       "      <td>43</td>\n",
       "      <td>73</td>\n",
       "      <td>76</td>\n",
       "      <td>2010-02-12</td>\n",
       "    </tr>\n",
       "    <tr>\n",
       "      <th>1</th>\n",
       "      <td>Please Give</td>\n",
       "      <td>R</td>\n",
       "      <td>Comedy</td>\n",
       "      <td>Nicole Holofcener</td>\n",
       "      <td>90.0</td>\n",
       "      <td>Certified-Fresh</td>\n",
       "      <td>87.0</td>\n",
       "      <td>44</td>\n",
       "      <td>123</td>\n",
       "      <td>19</td>\n",
       "      <td>2010-04-30</td>\n",
       "    </tr>\n",
       "    <tr>\n",
       "      <th>2</th>\n",
       "      <td>10</td>\n",
       "      <td>R</td>\n",
       "      <td>Comedy, Romance</td>\n",
       "      <td>Blake Edwards</td>\n",
       "      <td>122.0</td>\n",
       "      <td>Fresh</td>\n",
       "      <td>67.0</td>\n",
       "      <td>2</td>\n",
       "      <td>16</td>\n",
       "      <td>8</td>\n",
       "      <td>1979-10-05</td>\n",
       "    </tr>\n",
       "    <tr>\n",
       "      <th>3</th>\n",
       "      <td>12 Angry Men (Twelve Angry Men)</td>\n",
       "      <td>NR</td>\n",
       "      <td>Classics, Drama</td>\n",
       "      <td>Sidney Lumet</td>\n",
       "      <td>95.0</td>\n",
       "      <td>Certified-Fresh</td>\n",
       "      <td>100.0</td>\n",
       "      <td>6</td>\n",
       "      <td>54</td>\n",
       "      <td>0</td>\n",
       "      <td>1957-04-13</td>\n",
       "    </tr>\n",
       "    <tr>\n",
       "      <th>4</th>\n",
       "      <td>20,000 Leagues Under The Sea</td>\n",
       "      <td>G</td>\n",
       "      <td>Action &amp; Adventure, Drama, Kids &amp; Family</td>\n",
       "      <td>Richard Fleischer</td>\n",
       "      <td>127.0</td>\n",
       "      <td>Fresh</td>\n",
       "      <td>89.0</td>\n",
       "      <td>5</td>\n",
       "      <td>24</td>\n",
       "      <td>3</td>\n",
       "      <td>1954-01-01</td>\n",
       "    </tr>\n",
       "  </tbody>\n",
       "</table>\n",
       "</div>"
      ],
      "text/plain": [
       "                                         movie_title content_rating  \\\n",
       "0  Percy Jackson & the Olympians: The Lightning T...             PG   \n",
       "1                                        Please Give              R   \n",
       "2                                                 10              R   \n",
       "3                    12 Angry Men (Twelve Angry Men)             NR   \n",
       "4                       20,000 Leagues Under The Sea              G   \n",
       "\n",
       "                                              genres          directors  \\\n",
       "0  Action & Adventure, Comedy, Drama, Science Fic...     Chris Columbus   \n",
       "1                                             Comedy  Nicole Holofcener   \n",
       "2                                    Comedy, Romance      Blake Edwards   \n",
       "3                                    Classics, Drama       Sidney Lumet   \n",
       "4           Action & Adventure, Drama, Kids & Family  Richard Fleischer   \n",
       "\n",
       "   runtime tomatometer_status  tomatometer_rating  \\\n",
       "0    119.0             Rotten                49.0   \n",
       "1     90.0    Certified-Fresh                87.0   \n",
       "2    122.0              Fresh                67.0   \n",
       "3     95.0    Certified-Fresh               100.0   \n",
       "4    127.0              Fresh                89.0   \n",
       "\n",
       "   tomatometer_top_critics_count  tomatometer_fresh_critics_count  \\\n",
       "0                             43                               73   \n",
       "1                             44                              123   \n",
       "2                              2                               16   \n",
       "3                              6                               54   \n",
       "4                              5                               24   \n",
       "\n",
       "   tomatometer_rotten_critics_count original_release_date  \n",
       "0                                76            2010-02-12  \n",
       "1                                19            2010-04-30  \n",
       "2                                 8            1979-10-05  \n",
       "3                                 0            1957-04-13  \n",
       "4                                 3            1954-01-01  "
      ]
     },
     "execution_count": 2,
     "metadata": {},
     "output_type": "execute_result"
    }
   ],
   "source": [
    "movies = pd.read_csv('data/rotten_tomatoes_movies.csv')\n",
    "critical_columns = ['movie_title', 'content_rating', 'genres', 'directors', 'runtime', 'tomatometer_status', \n",
    "                    'tomatometer_rating', 'tomatometer_top_critics_count', 'tomatometer_fresh_critics_count',\n",
    "                    'tomatometer_rotten_critics_count', 'original_release_date']\n",
    "movies = movies[critical_columns]\n",
    "movies.head()"
   ]
  },
  {
   "cell_type": "markdown",
   "id": "9bff8dfb",
   "metadata": {},
   "source": [
    "We know that the genre of the movie will be an important predictor, so we collect all the different genres into a set so we can see the unique values. "
   ]
  },
  {
   "cell_type": "code",
   "execution_count": 3,
   "id": "d17cf1a2",
   "metadata": {},
   "outputs": [
    {
     "name": "stdout",
     "output_type": "stream",
     "text": [
      "{'Documentary', 'Cult Movies', 'Horror', 'Kids & Family', 'Science Fiction & Fantasy', 'Special Interest', 'Classics', 'Anime & Manga', 'Sports & Fitness', 'Mystery & Suspense', 'Western', 'Romance', 'Comedy', 'Action & Adventure', 'Faith & Spirituality', 'Gay & Lesbian', 'Animation', 'Drama', 'Musical & Performing Arts', 'Art House & International', 'Television'}\n"
     ]
    }
   ],
   "source": [
    "genre_set = set()\n",
    "for i in movies['genres']:\n",
    "    if (type(i) == str):\n",
    "        for j in i.split(','):\n",
    "            j = j.strip()\n",
    "            genre_set.add(j)\n",
    "print(genre_set)"
   ]
  },
  {
   "cell_type": "markdown",
   "id": "0377b5f1",
   "metadata": {},
   "source": [
    "We are interested in how many null values are in our csv because they can cause errors in our machine learning algorithms. We look through the columns and see how many null values they all have."
   ]
  },
  {
   "cell_type": "code",
   "execution_count": 4,
   "id": "779f72d4",
   "metadata": {},
   "outputs": [
    {
     "name": "stdout",
     "output_type": "stream",
     "text": [
      "movie_title 0\n",
      "content_rating 0\n",
      "genres 19\n",
      "directors 194\n",
      "runtime 314\n",
      "tomatometer_status 44\n",
      "tomatometer_rating 44\n",
      "tomatometer_top_critics_count 0\n",
      "tomatometer_fresh_critics_count 0\n",
      "tomatometer_rotten_critics_count 0\n",
      "original_release_date 1166\n"
     ]
    }
   ],
   "source": [
    "for i in movies.columns:\n",
    "    print(i,movies[i].isnull().values.sum())"
   ]
  },
  {
   "cell_type": "markdown",
   "id": "2eb5b534",
   "metadata": {},
   "source": [
    "Since there aren't very many null values across our columns, we will just drop all the null values to avoid any problems later on. "
   ]
  },
  {
   "cell_type": "code",
   "execution_count": 5,
   "id": "b48b2a44",
   "metadata": {},
   "outputs": [
    {
     "data": {
      "text/plain": [
       "(16208, 11)"
      ]
     },
     "execution_count": 5,
     "metadata": {},
     "output_type": "execute_result"
    }
   ],
   "source": [
    "movies = movies.dropna()\n",
    "movies.shape"
   ]
  },
  {
   "cell_type": "markdown",
   "id": "4fa7d162",
   "metadata": {},
   "source": [
    "Genres list is a categorigal variable with no order. So we one hot encoded it.\n",
    "To one hot encode the genres, first made genres into a new genres list. Then, applied Series to each 'genres list' element"
   ]
  },
  {
   "cell_type": "code",
   "execution_count": 6,
   "id": "9e8f29bd",
   "metadata": {},
   "outputs": [
    {
     "data": {
      "text/plain": [
       "R        6092\n",
       "NR       4507\n",
       "PG-13    2863\n",
       "PG       2067\n",
       "G         644\n",
       "NC17       35\n",
       "Name: content_rating, dtype: int64"
      ]
     },
     "execution_count": 6,
     "metadata": {},
     "output_type": "execute_result"
    }
   ],
   "source": [
    "movies['genres list'] = movies['genres'].str.split(', ', expand=False)\n",
    "genres_series = movies['genres list'].apply(pd.Series).stack()\n",
    "genres_encoded = pd.get_dummies(genres_series).groupby(level=0).sum()\n",
    "# movies = pd.concat([movies, genres_encoded], axis=1)\n",
    "\n",
    "genres_list = []\n",
    "for i in genres_encoded.index:\n",
    "    row_list = genres_encoded.loc[i, :].values.flatten().tolist()\n",
    "    genres_list.append(row_list)\n",
    "\n",
    "movies['genres_encoded'] = genres_list\n",
    "\n",
    "movies['content_rating'].value_counts()"
   ]
  },
  {
   "cell_type": "markdown",
   "id": "8e2dc895",
   "metadata": {},
   "source": [
    "Ratings have an order to it, so we turned it into an ordinal numerical value."
   ]
  },
  {
   "cell_type": "code",
   "execution_count": 7,
   "id": "dbe281ab",
   "metadata": {},
   "outputs": [],
   "source": [
    "ratings = {'G': 0, 'PG': 1, 'PG-13': 2, 'R': 3, 'NC17': 4, 'NR': 5}\n",
    "\n",
    "movies['content_rating_id'] = movies['content_rating'].map(ratings)"
   ]
  },
  {
   "cell_type": "markdown",
   "id": "f068d39b",
   "metadata": {},
   "source": [
    "We turned original release date into a pandas date time object so we can easily compare it to each other"
   ]
  },
  {
   "cell_type": "code",
   "execution_count": 8,
   "id": "d8824abc",
   "metadata": {},
   "outputs": [],
   "source": [
    "movies['original_release_date'] = pd.to_datetime(movies['original_release_date'])"
   ]
  },
  {
   "cell_type": "code",
   "execution_count": 9,
   "id": "298dd310",
   "metadata": {},
   "outputs": [
    {
     "data": {
      "text/html": [
       "<div>\n",
       "<style scoped>\n",
       "    .dataframe tbody tr th:only-of-type {\n",
       "        vertical-align: middle;\n",
       "    }\n",
       "\n",
       "    .dataframe tbody tr th {\n",
       "        vertical-align: top;\n",
       "    }\n",
       "\n",
       "    .dataframe thead th {\n",
       "        text-align: right;\n",
       "    }\n",
       "</style>\n",
       "<table border=\"1\" class=\"dataframe\">\n",
       "  <thead>\n",
       "    <tr style=\"text-align: right;\">\n",
       "      <th></th>\n",
       "      <th>movie_title</th>\n",
       "      <th>content_rating</th>\n",
       "      <th>content_rating_id</th>\n",
       "      <th>genres</th>\n",
       "      <th>genres_encoded</th>\n",
       "      <th>directors</th>\n",
       "      <th>runtime</th>\n",
       "      <th>original_release_date</th>\n",
       "      <th>tomatometer_status</th>\n",
       "      <th>tomatometer_rating</th>\n",
       "      <th>tomatometer_top_critics_count</th>\n",
       "      <th>tomatometer_fresh_critics_count</th>\n",
       "      <th>tomatometer_rotten_critics_count</th>\n",
       "    </tr>\n",
       "  </thead>\n",
       "  <tbody>\n",
       "    <tr>\n",
       "      <th>0</th>\n",
       "      <td>Percy Jackson &amp; the Olympians: The Lightning T...</td>\n",
       "      <td>PG</td>\n",
       "      <td>1</td>\n",
       "      <td>Action &amp; Adventure, Comedy, Drama, Science Fic...</td>\n",
       "      <td>[1, 0, 0, 0, 0, 1, 0, 0, 1, 0, 0, 0, 0, 0, 0, ...</td>\n",
       "      <td>Chris Columbus</td>\n",
       "      <td>119.0</td>\n",
       "      <td>2010-02-12</td>\n",
       "      <td>Rotten</td>\n",
       "      <td>49.0</td>\n",
       "      <td>43</td>\n",
       "      <td>73</td>\n",
       "      <td>76</td>\n",
       "    </tr>\n",
       "    <tr>\n",
       "      <th>1</th>\n",
       "      <td>Please Give</td>\n",
       "      <td>R</td>\n",
       "      <td>3</td>\n",
       "      <td>Comedy</td>\n",
       "      <td>[0, 0, 0, 0, 0, 1, 0, 0, 0, 0, 0, 0, 0, 0, 0, ...</td>\n",
       "      <td>Nicole Holofcener</td>\n",
       "      <td>90.0</td>\n",
       "      <td>2010-04-30</td>\n",
       "      <td>Certified-Fresh</td>\n",
       "      <td>87.0</td>\n",
       "      <td>44</td>\n",
       "      <td>123</td>\n",
       "      <td>19</td>\n",
       "    </tr>\n",
       "    <tr>\n",
       "      <th>2</th>\n",
       "      <td>10</td>\n",
       "      <td>R</td>\n",
       "      <td>3</td>\n",
       "      <td>Comedy, Romance</td>\n",
       "      <td>[0, 0, 0, 0, 0, 1, 0, 0, 0, 0, 0, 0, 0, 0, 0, ...</td>\n",
       "      <td>Blake Edwards</td>\n",
       "      <td>122.0</td>\n",
       "      <td>1979-10-05</td>\n",
       "      <td>Fresh</td>\n",
       "      <td>67.0</td>\n",
       "      <td>2</td>\n",
       "      <td>16</td>\n",
       "      <td>8</td>\n",
       "    </tr>\n",
       "    <tr>\n",
       "      <th>3</th>\n",
       "      <td>12 Angry Men (Twelve Angry Men)</td>\n",
       "      <td>NR</td>\n",
       "      <td>5</td>\n",
       "      <td>Classics, Drama</td>\n",
       "      <td>[0, 0, 0, 0, 1, 0, 0, 0, 1, 0, 0, 0, 0, 0, 0, ...</td>\n",
       "      <td>Sidney Lumet</td>\n",
       "      <td>95.0</td>\n",
       "      <td>1957-04-13</td>\n",
       "      <td>Certified-Fresh</td>\n",
       "      <td>100.0</td>\n",
       "      <td>6</td>\n",
       "      <td>54</td>\n",
       "      <td>0</td>\n",
       "    </tr>\n",
       "    <tr>\n",
       "      <th>4</th>\n",
       "      <td>20,000 Leagues Under The Sea</td>\n",
       "      <td>G</td>\n",
       "      <td>0</td>\n",
       "      <td>Action &amp; Adventure, Drama, Kids &amp; Family</td>\n",
       "      <td>[1, 0, 0, 0, 0, 0, 0, 0, 1, 0, 0, 0, 1, 0, 0, ...</td>\n",
       "      <td>Richard Fleischer</td>\n",
       "      <td>127.0</td>\n",
       "      <td>1954-01-01</td>\n",
       "      <td>Fresh</td>\n",
       "      <td>89.0</td>\n",
       "      <td>5</td>\n",
       "      <td>24</td>\n",
       "      <td>3</td>\n",
       "    </tr>\n",
       "  </tbody>\n",
       "</table>\n",
       "</div>"
      ],
      "text/plain": [
       "                                         movie_title content_rating  \\\n",
       "0  Percy Jackson & the Olympians: The Lightning T...             PG   \n",
       "1                                        Please Give              R   \n",
       "2                                                 10              R   \n",
       "3                    12 Angry Men (Twelve Angry Men)             NR   \n",
       "4                       20,000 Leagues Under The Sea              G   \n",
       "\n",
       "   content_rating_id                                             genres  \\\n",
       "0                  1  Action & Adventure, Comedy, Drama, Science Fic...   \n",
       "1                  3                                             Comedy   \n",
       "2                  3                                    Comedy, Romance   \n",
       "3                  5                                    Classics, Drama   \n",
       "4                  0           Action & Adventure, Drama, Kids & Family   \n",
       "\n",
       "                                      genres_encoded          directors  \\\n",
       "0  [1, 0, 0, 0, 0, 1, 0, 0, 1, 0, 0, 0, 0, 0, 0, ...     Chris Columbus   \n",
       "1  [0, 0, 0, 0, 0, 1, 0, 0, 0, 0, 0, 0, 0, 0, 0, ...  Nicole Holofcener   \n",
       "2  [0, 0, 0, 0, 0, 1, 0, 0, 0, 0, 0, 0, 0, 0, 0, ...      Blake Edwards   \n",
       "3  [0, 0, 0, 0, 1, 0, 0, 0, 1, 0, 0, 0, 0, 0, 0, ...       Sidney Lumet   \n",
       "4  [1, 0, 0, 0, 0, 0, 0, 0, 1, 0, 0, 0, 1, 0, 0, ...  Richard Fleischer   \n",
       "\n",
       "   runtime original_release_date tomatometer_status  tomatometer_rating  \\\n",
       "0    119.0            2010-02-12             Rotten                49.0   \n",
       "1     90.0            2010-04-30    Certified-Fresh                87.0   \n",
       "2    122.0            1979-10-05              Fresh                67.0   \n",
       "3     95.0            1957-04-13    Certified-Fresh               100.0   \n",
       "4    127.0            1954-01-01              Fresh                89.0   \n",
       "\n",
       "   tomatometer_top_critics_count  tomatometer_fresh_critics_count  \\\n",
       "0                             43                               73   \n",
       "1                             44                              123   \n",
       "2                              2                               16   \n",
       "3                              6                               54   \n",
       "4                              5                               24   \n",
       "\n",
       "   tomatometer_rotten_critics_count  \n",
       "0                                76  \n",
       "1                                19  \n",
       "2                                 8  \n",
       "3                                 0  \n",
       "4                                 3  "
      ]
     },
     "execution_count": 9,
     "metadata": {},
     "output_type": "execute_result"
    }
   ],
   "source": [
    "#reordering the columns\n",
    "reordered_columns = ['movie_title', 'content_rating', 'content_rating_id', 'genres', 'genres_encoded', 'directors',\n",
    "                    'runtime', 'original_release_date', 'tomatometer_status', 'tomatometer_rating', \n",
    "                    'tomatometer_top_critics_count', 'tomatometer_fresh_critics_count', 'tomatometer_rotten_critics_count']\n",
    "movies = movies[reordered_columns]\n",
    "movies.head()"
   ]
  },
  {
   "cell_type": "code",
   "execution_count": 42,
   "id": "008ccfb1",
   "metadata": {
    "scrolled": true
   },
   "outputs": [
    {
     "data": {
      "text/plain": [
       "(16208, 13)"
      ]
     },
     "execution_count": 42,
     "metadata": {},
     "output_type": "execute_result"
    }
   ],
   "source": [
    "movies.shape"
   ]
  },
  {
   "cell_type": "code",
   "execution_count": 11,
   "id": "d0cfcce1",
   "metadata": {},
   "outputs": [],
   "source": [
    "movies.to_csv('data/rotten_tomatoes_movies_clean.csv', index=False)"
   ]
  },
  {
   "cell_type": "code",
   "execution_count": 56,
   "id": "7f82c650",
   "metadata": {},
   "outputs": [],
   "source": [
    "movies_clean = pd.read_csv('data/rotten_tomatoes_movies_clean.csv')\n",
    "movies_clean['original_release_date'] = pd.to_datetime(movies_clean['original_release_date'])"
   ]
  },
  {
   "cell_type": "code",
   "execution_count": 57,
   "id": "a32c3a88",
   "metadata": {},
   "outputs": [],
   "source": [
    "def genres_encoded_fix(val):\n",
    "    lst = [int(i) for i in val if i == '1' or i == '0']\n",
    "    return lst\n",
    "\n",
    "movies_clean['genres_encoded'] = movies_clean['genres_encoded'].apply(genres_encoded_fix);"
   ]
  },
  {
   "cell_type": "markdown",
   "id": "798d475e",
   "metadata": {},
   "source": [
    "### Data Visualizations"
   ]
  },
  {
   "cell_type": "markdown",
   "id": "1cd69c83",
   "metadata": {},
   "source": [
    "First we do a heatmap to get an idea of possible correlations between variables. "
   ]
  },
  {
   "cell_type": "code",
   "execution_count": 58,
   "id": "06d8b5c1",
   "metadata": {},
   "outputs": [
    {
     "data": {
      "image/png": "[encoded data removed]",
      "text/plain": [
       "<Figure size 720x720 with 2 Axes>"
      ]
     },
     "metadata": {},
     "output_type": "display_data"
    }
   ],
   "source": [
    "selected_columns = ['original_release_date', 'runtime', 'content_rating_id', 'tomatometer_rating']\n",
    "movies_corr = movies_clean.loc[:,selected_columns].corr(numeric_only=False)\n",
    "sns.set(rc={\"figure.figsize\":(10, 10)})\n",
    "sns.heatmap(movies_corr, annot = True);"
   ]
  },
  {
   "cell_type": "markdown",
   "id": "c654cc62",
   "metadata": {},
   "source": [
    "From this heatmap we can see that there is a slight negative correlation (-0.21) which tells us that there is some truth to the idea that critics give higher ratings to older movies and lower ratings to newer ones. \n",
    "\n",
    "There is also a slight positive correlation (0.14) between the content rating of a movie and the critic ratings which would hint at movies with a more adult content rating receiving higher reviews than movies targeted towards kids. "
   ]
  },
  {
   "cell_type": "markdown",
   "id": "624e64dd",
   "metadata": {},
   "source": [
    "Next we figure out the percentage of each genre of movie that are given Fresh or Certified-Fresh reviews in order to see which genres are highest and lowest rated. "
   ]
  },
  {
   "cell_type": "code",
   "execution_count": 59,
   "id": "5d99b7af",
   "metadata": {},
   "outputs": [
    {
     "name": "stdout",
     "output_type": "stream",
     "text": [
      "{0: [1545, 1753], 1: [317, 219], 2: [15, 3], 3: [1703, 614], 4: [1331, 258], 5: [2532, 2734], 6: [56, 42], 7: [1574, 221], 8: [5410, 3532], 9: [43, 28], 10: [34, 38], 11: [776, 1040], 12: [496, 529], 13: [669, 262], 14: [1588, 1702], 15: [1012, 804], 16: [844, 884], 17: [956, 195], 18: [122, 43], 19: [159, 52], 20: [184, 105]}\n"
     ]
    }
   ],
   "source": [
    "genres_dict = {}\n",
    "for i in range(len(genre_set)):\n",
    "    genres_dict[i] = [0,0]\n",
    "    \n",
    "for index in movies_clean.index:\n",
    "    genres_enc = movies_clean.loc[index,'genres_encoded']\n",
    "    tomato = movies_clean.loc[index,'tomatometer_status']\n",
    "    for i in range(len(genres_enc)):\n",
    "        if genres_enc[i] == 1:\n",
    "            if tomato == 'Fresh' or tomato == 'Certified-Fresh':\n",
    "                genres_dict[i][0] += 1\n",
    "            else:\n",
    "                genres_dict[i][1] += 1\n",
    "\n",
    "        \n",
    "print(genres_dict)"
   ]
  },
  {
   "cell_type": "code",
   "execution_count": 61,
   "id": "95dd6c7a",
   "metadata": {},
   "outputs": [],
   "source": [
    "movies_to_tomato = {}\n",
    "for i in genres_dict:\n",
    "    movies_to_tomato[genres_encoded.columns[i]] = genres_dict[i][0]/float(genres_dict[i][0]+genres_dict[i][1])"
   ]
  },
  {
   "cell_type": "code",
   "execution_count": 62,
   "id": "2dd85056",
   "metadata": {},
   "outputs": [
    {
     "data": {
      "image/png": "[encoded data removed]",
      "text/plain": [
       "<Figure size 1080x432 with 1 Axes>"
      ]
     },
     "metadata": {},
     "output_type": "display_data"
    }
   ],
   "source": [
    "keys = list(movies_to_tomato.keys())\n",
    "vals = [float(movies_to_tomato[k]) for k in keys]\n",
    "\n",
    "sns.set(rc={\"figure.figsize\":(15, 6)})\n",
    "plot = sns.barplot(x=keys, y=vals)\n",
    "plot.set_title(\"Percent of Reviews that are Fresh by Genre\")\n",
    "plot.set_xticklabels(labels = keys,rotation=90);"
   ]
  },
  {
   "cell_type": "markdown",
   "id": "816d8abf",
   "metadata": {},
   "source": [
    "From this bar graph we can see that some genres receive higher ratings than others. For example, Documentaries, Classics, Anime & Manga, and Special Interest movies are much more likely to receive positive reviews than a genre like Horror, so we would expect our Machine Learning algorithm to predict higher ratings for those genres on average than for Horror movies. "
   ]
  },
  {
   "cell_type": "markdown",
   "id": "b80d8b2b",
   "metadata": {},
   "source": [
    "Lastly we wanted to look at the runtime of movies compared with the rating the movie received. "
   ]
  },
  {
   "cell_type": "code",
   "execution_count": null,
   "id": "cb285c6a",
   "metadata": {},
   "outputs": [],
   "source": [
    "sns.set(rc={\"figure.figsize\":(15, 6)})\n",
    "plot = sns.kdeplot(x=movies_clean['runtime'], y=movies_clean['tomatometer_rating'])\n",
    "plot.set_title(\"Distribution of Movie Ratings and Runtime\")"
   ]
  },
  {
   "cell_type": "markdown",
   "id": "cd2e299a",
   "metadata": {},
   "source": [
    "We see that most movies end up being around 90 minutes long. There seems to be a very slight trend towards a higher rating with movies between 110-150 minutes long, but overall there is a very slight positive correlation between runtime and rating. "
   ]
  }
 ],
 "metadata": {
  "kernelspec": {
   "display_name": "Python 3 (ipykernel)",
   "language": "python",
   "name": "python3"
  },
  "language_info": {
   "codemirror_mode": {
    "name": "ipython",
    "version": 3
   },
   "file_extension": ".py",
   "mimetype": "text/x-python",
   "name": "python",
   "nbconvert_exporter": "python",
   "pygments_lexer": "ipython3",
   "version": "3.9.5"
  }
 },
 "nbformat": 4,
 "nbformat_minor": 5
}
